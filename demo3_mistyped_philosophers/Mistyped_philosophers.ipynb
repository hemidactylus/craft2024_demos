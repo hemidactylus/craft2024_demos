{
 "cells": [
  {
   "cell_type": "markdown",
   "id": "43d3a60f-63f8-4b5d-9319-c49ee44ca561",
   "metadata": {},
   "source": [
    "# Demo 3 - Mistyped philosophers"
   ]
  },
  {
   "cell_type": "code",
   "execution_count": null,
   "id": "66fc24b5-a5c3-40cb-9a5b-54a7fa7f122a",
   "metadata": {},
   "outputs": [],
   "source": [
    "!pip install --quiet \"astrapy>=1.0.0\" \"python-dotenv>=1.0.0\" \"unidecode>=1.3.8\""
   ]
  },
  {
   "cell_type": "code",
   "execution_count": null,
   "id": "da29571f-fffc-4ea0-bc21-278138454550",
   "metadata": {},
   "outputs": [],
   "source": [
    "import getpass\n",
    "import os\n",
    "\n",
    "from dotenv import load_dotenv\n",
    "from unidecode import unidecode\n",
    "\n",
    "from astrapy import DataAPIClient\n",
    "from astrapy.constants import VectorMetric"
   ]
  },
  {
   "cell_type": "markdown",
   "id": "ae87ac27-0243-4adb-b60b-5c2dffad094e",
   "metadata": {},
   "source": [
    "## Setup DB"
   ]
  },
  {
   "cell_type": "code",
   "execution_count": null,
   "id": "e6da120b-9be9-4c3f-b273-ffa1a897aacb",
   "metadata": {},
   "outputs": [],
   "source": [
    "load_dotenv()\n",
    "\n",
    "if \"ASTRA_DB_APPLICATION_TOKEN\" not in os.environ:\n",
    "    os.environ[\"ASTRA_DB_APPLICATION_TOKEN\"] = getpass.getpass(\"Please input your Astra DB Token:\")\n",
    "\n",
    "if \"ASTRA_DB_API_ENDPOINT\" not in os.environ:\n",
    "    os.environ[\"ASTRA_DB_API_ENDPOINT\"] = input(\"Please input your Astra DB API Endpoint:\")\n",
    "\n",
    "if \"ASTRA_DB_KEYSPACE\" not in os.environ:\n",
    "    _namespace = input(\"(Optional) Input your Astra DB namespace if desired, or leave blank:\")\n",
    "    if _namespace:\n",
    "        os.environ[\"ASTRA_DB_KEYSPACE\"] = _namespace\n",
    "\n",
    "ASTRA_DB_APPLICATION_TOKEN = os.environ[\"ASTRA_DB_APPLICATION_TOKEN\"]\n",
    "ASTRA_DB_API_ENDPOINT = os.environ[\"ASTRA_DB_API_ENDPOINT\"]\n",
    "ASTRA_DB_KEYSPACE = os.environ.get(\"ASTRA_DB_KEYSPACE\")"
   ]
  },
  {
   "cell_type": "code",
   "execution_count": null,
   "id": "531669f9-cbe0-41a8-ab57-fe4294a4aee6",
   "metadata": {},
   "outputs": [],
   "source": [
    "db = DataAPIClient(ASTRA_DB_APPLICATION_TOKEN).get_database_by_api_endpoint(ASTRA_DB_API_ENDPOINT, namespace=ASTRA_DB_KEYSPACE)"
   ]
  },
  {
   "cell_type": "markdown",
   "id": "83fbe894-3720-4ce0-836a-b5882a7fe42a",
   "metadata": {},
   "source": [
    "## Digram-vector from a philosopher name"
   ]
  },
  {
   "cell_type": "code",
   "execution_count": null,
   "id": "c6568b57-34d0-4ba9-b189-e66f312d7b41",
   "metadata": {},
   "outputs": [],
   "source": [
    "alphabet = [chr(ascii_i) for ascii_i in range(ord(\"a\"), ord(\"z\") + 1)]\n",
    "digrams = [f\"{c1}{c2}\" for c1 in alphabet for c2 in alphabet]\n",
    "num_digrams = len(digrams)\n",
    "\n",
    "print(f\"Alphabet: {''.join(alphabet)}\")\n",
    "print(\"Digrams:\")\n",
    "print(f\"      0 -> '{digrams[0]}'\")\n",
    "print(f\"      1 -> '{digrams[1]}'\")\n",
    "print(f\"    326 -> '{digrams[326]}'\")\n",
    "print(f\"    {num_digrams - 1} -> '{digrams[num_digrams - 1]}'\")"
   ]
  },
  {
   "cell_type": "code",
   "execution_count": null,
   "id": "6fdc6dab-4323-416b-b009-daba72cd841d",
   "metadata": {},
   "outputs": [],
   "source": [
    "def normalize_text(text):\n",
    "    base = unidecode(text).lower()\n",
    "    normalized = \"\"\n",
    "    for c in base:\n",
    "        if c in alphabet:\n",
    "            normalized += c\n",
    "    return normalized\n",
    "\n",
    "for src_name in [\"Quine\", \"Martin-Löf\", \"Merleau-Ponty\"]:\n",
    "    print(f\"normalize_text('{src_name}') ==> '{normalize_text(src_name)}'\")"
   ]
  },
  {
   "cell_type": "code",
   "execution_count": null,
   "id": "bff51abb-af62-4abb-ac2d-c1161ec21ca4",
   "metadata": {},
   "outputs": [],
   "source": [
    "def digrams_from_string(text):\n",
    "    return [\n",
    "        f\"{c1}{c2}\"\n",
    "        for c1, c2 in zip(text[:-1], text[1:])\n",
    "        if f\"{c1}{c2}\" in digrams\n",
    "    ]\n",
    "\n",
    "for src_name in [\"quine\", \"martinlof\", \"merleauponty\"]:\n",
    "    print(f\"digrams_from_string('{src_name}') ==> '{digrams_from_string(src_name)}'\")"
   ]
  },
  {
   "cell_type": "code",
   "execution_count": null,
   "id": "90eddb3c-bd79-4cc0-9ecf-3481e54a759b",
   "metadata": {},
   "outputs": [],
   "source": [
    "digram_to_index = {dg: dg_i for dg_i, dg in enumerate(digrams)}\n",
    "\n",
    "def normalize_vector(v):\n",
    "    norm = sum(v_i * v_i for v_i in v) ** 0.5\n",
    "    if norm > 0:\n",
    "        return [v_i / norm for v_i in v]\n",
    "    else:\n",
    "        return v\n",
    "\n",
    "def name_to_vector(text):\n",
    "    n_name = normalize_text(text)\n",
    "    t_digrams = digrams_from_string(n_name)\n",
    "    t_vector = [0] * num_digrams\n",
    "    for dg in t_digrams:\n",
    "        t_vector[digram_to_index[dg]] += 1\n",
    "    return normalize_vector(t_vector)\n",
    "\n",
    "print(f\"name_to_vector('Kierkegaard') =\\n   {str(name_to_vector('Kierkegaard'))[:130]}...\")"
   ]
  },
  {
   "cell_type": "code",
   "execution_count": null,
   "id": "a86f805c-e165-4297-9fb2-d697edd34921",
   "metadata": {},
   "outputs": [],
   "source": [
    "ph_names_collection = db.create_collection(\n",
    "    \"craftdemo_philonames\",\n",
    "    dimension=num_digrams,\n",
    "    metric=VectorMetric.DOT_PRODUCT,\n",
    "    check_exists=False,\n",
    ")\n",
    "# just in case this demo is re-run\n",
    "ph_names_collection.delete_all()"
   ]
  },
  {
   "cell_type": "markdown",
   "id": "3270ac7c-5173-46b0-ae11-d53b617d5948",
   "metadata": {},
   "source": [
    "## Data input"
   ]
  },
  {
   "cell_type": "code",
   "execution_count": null,
   "id": "4f597eef-fea4-404f-9405-201866af086a",
   "metadata": {},
   "outputs": [],
   "source": [
    "philosophers = [\n",
    "    \"Kierkegaard\",\n",
    "    \"Martin-Löf\",\n",
    "    \"Wittgenstein\",\n",
    "    \"Sartre\",\n",
    "    \"Heidegger\",\n",
    "    \"Spinoza\",\n",
    "]"
   ]
  },
  {
   "cell_type": "code",
   "execution_count": null,
   "id": "b7645595-6b86-4cb1-a4be-945a4ddd0ce7",
   "metadata": {},
   "outputs": [],
   "source": [
    "for ph_name in philosophers:\n",
    "    ph_vector = name_to_vector(ph_name)\n",
    "    result = ph_names_collection.insert_one({\"name\": ph_name}, vector=ph_vector)\n",
    "    print(f\"Inserted {ph_name} (_id = {result.inserted_id})\")"
   ]
  },
  {
   "cell_type": "markdown",
   "id": "cb5d6e53-befd-4cc4-87dc-4a8e6ca1e29e",
   "metadata": {},
   "source": [
    "## Approximate search by digram-vector"
   ]
  },
  {
   "cell_type": "code",
   "execution_count": null,
   "id": "4bd398cc-a5f1-4595-925c-924fa548d5e4",
   "metadata": {},
   "outputs": [],
   "source": [
    "def find_philosopher(name, threshold=0.8):\n",
    "    exact_match = ph_names_collection.find_one({\"name\": name})\n",
    "    if exact_match:\n",
    "        return exact_match\n",
    "    else:\n",
    "        # try with digram-based misspelling corrections\n",
    "        best_match = ph_names_collection.find_one(vector=name_to_vector(name), include_similarity=True)\n",
    "        if best_match is not None:\n",
    "            if best_match[\"$similarity\"] >= threshold:\n",
    "                return best_match\n",
    "            else:\n",
    "                return None\n",
    "        else:\n",
    "            return None"
   ]
  },
  {
   "cell_type": "code",
   "execution_count": null,
   "id": "d22c5a8c-fc8e-45fd-83be-d919d856360b",
   "metadata": {},
   "outputs": [],
   "source": [
    "found = find_philosopher(\"Spinoza\")\n",
    "if found:\n",
    "    print(f\"Found: {found['name']} ({found['_id']})\")\n",
    "else:\n",
    "    print(\"No match.\")"
   ]
  },
  {
   "cell_type": "code",
   "execution_count": null,
   "id": "67f78a65-2a8d-4572-8be7-effeed5e1b18",
   "metadata": {},
   "outputs": [],
   "source": [
    "found = find_philosopher(\"wiggenstein\")\n",
    "if found:\n",
    "    print(f\"Found: {found['name']} ({found['_id']})\")\n",
    "else:\n",
    "    print(\"No match.\")"
   ]
  },
  {
   "cell_type": "code",
   "execution_count": null,
   "id": "140b6899-7e74-4767-8c45-59019cc2a25b",
   "metadata": {},
   "outputs": [],
   "source": [
    "found = find_philosopher(\"martinlov\")\n",
    "if found:\n",
    "    print(f\"Found: {found['name']} ({found['_id']})\")\n",
    "else:\n",
    "    print(\"No match.\")"
   ]
  },
  {
   "cell_type": "code",
   "execution_count": null,
   "id": "50506eb1-4532-474f-b326-38930707a2a4",
   "metadata": {},
   "outputs": [],
   "source": [
    "found = find_philosopher(\"Miocuggino\")\n",
    "if found:\n",
    "    print(f\"Found: {found['name']} ({found['_id']})\")\n",
    "else:\n",
    "    print(\"No match.\")"
   ]
  }
 ],
 "metadata": {
  "kernelspec": {
   "display_name": "Python 3 (ipykernel)",
   "language": "python",
   "name": "python3"
  },
  "language_info": {
   "codemirror_mode": {
    "name": "ipython",
    "version": 3
   },
   "file_extension": ".py",
   "mimetype": "text/x-python",
   "name": "python",
   "nbconvert_exporter": "python",
   "pygments_lexer": "ipython3",
   "version": "3.10.12"
  }
 },
 "nbformat": 4,
 "nbformat_minor": 5
}
