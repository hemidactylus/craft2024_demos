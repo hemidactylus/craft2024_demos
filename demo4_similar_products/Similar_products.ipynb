{
 "cells": [
  {
   "cell_type": "markdown",
   "id": "43d3a60f-63f8-4b5d-9319-c49ee44ca561",
   "metadata": {},
   "source": [
    "# Demo 4 - Similar \"products\""
   ]
  },
  {
   "cell_type": "code",
   "execution_count": null,
   "id": "66fc24b5-a5c3-40cb-9a5b-54a7fa7f122a",
   "metadata": {},
   "outputs": [],
   "source": [
    "!pip install --quiet \"astrapy>=1.0.0\" \"python-dotenv>=1.0.0\" \"matplotlib>=3.8.4\""
   ]
  },
  {
   "cell_type": "code",
   "execution_count": null,
   "id": "da29571f-fffc-4ea0-bc21-278138454550",
   "metadata": {},
   "outputs": [],
   "source": [
    "import getpass\n",
    "import os\n",
    "\n",
    "import matplotlib.pyplot as plt\n",
    "from dotenv import load_dotenv\n",
    "\n",
    "from astrapy import DataAPIClient\n",
    "from astrapy.constants import VectorMetric"
   ]
  },
  {
   "cell_type": "markdown",
   "id": "ae87ac27-0243-4adb-b60b-5c2dffad094e",
   "metadata": {},
   "source": [
    "## Setup DB"
   ]
  },
  {
   "cell_type": "code",
   "execution_count": null,
   "id": "e6da120b-9be9-4c3f-b273-ffa1a897aacb",
   "metadata": {},
   "outputs": [],
   "source": [
    "load_dotenv()\n",
    "\n",
    "if \"ASTRA_DB_APPLICATION_TOKEN\" not in os.environ:\n",
    "    os.environ[\"ASTRA_DB_APPLICATION_TOKEN\"] = getpass.getpass(\"Please input your Astra DB Token:\")\n",
    "\n",
    "if \"ASTRA_DB_API_ENDPOINT\" not in os.environ:\n",
    "    os.environ[\"ASTRA_DB_API_ENDPOINT\"] = input(\"Please input your Astra DB API Endpoint:\")\n",
    "\n",
    "if \"ASTRA_DB_KEYSPACE\" not in os.environ:\n",
    "    _namespace = input(\"(Optional) Input your Astra DB namespace if desired, or leave blank:\")\n",
    "    if _namespace:\n",
    "        os.environ[\"ASTRA_DB_KEYSPACE\"] = _namespace\n",
    "\n",
    "ASTRA_DB_APPLICATION_TOKEN = os.environ[\"ASTRA_DB_APPLICATION_TOKEN\"]\n",
    "ASTRA_DB_API_ENDPOINT = os.environ[\"ASTRA_DB_API_ENDPOINT\"]\n",
    "ASTRA_DB_KEYSPACE = os.environ.get(\"ASTRA_DB_KEYSPACE\")"
   ]
  },
  {
   "cell_type": "code",
   "execution_count": null,
   "id": "531669f9-cbe0-41a8-ab57-fe4294a4aee6",
   "metadata": {},
   "outputs": [],
   "source": [
    "db = DataAPIClient(ASTRA_DB_APPLICATION_TOKEN).get_database_by_api_endpoint(ASTRA_DB_API_ENDPOINT, namespace=ASTRA_DB_KEYSPACE)"
   ]
  },
  {
   "cell_type": "markdown",
   "id": "0d65ced5-3f59-4a8b-a10a-41864a4aa99c",
   "metadata": {},
   "source": [
    "## Raw data"
   ]
  },
  {
   "cell_type": "code",
   "execution_count": null,
   "id": "a3aa98ef-8c3b-4231-87b4-096082a4f01b",
   "metadata": {},
   "outputs": [],
   "source": [
    "raw_critters = [\n",
    "    {\n",
    "        \"name\": \"Eratigena atrica\",\n",
    "        \"family\": \"Agelenidae\",\n",
    "        \"specs\": {\n",
    "            \"speed\": 0.8,   # m/s (max running speed)\n",
    "            \"size\": 3,      # max body length, cm\n",
    "            \"threat\": 5.5,  # 0=harmless, 5=sore skin, 10=lethal\n",
    "            \"eyesight\": 5,  # cm\n",
    "        },\n",
    "    },\n",
    "    {\n",
    "        \"name\": \"Salticus scenicus\",\n",
    "        \"family\": \"Salticidae\",\n",
    "        \"specs\": {\n",
    "            \"speed\": 0.3,\n",
    "            \"size\": 0.4,\n",
    "            \"threat\": 0,\n",
    "            \"eyesight\": 35,\n",
    "        },\n",
    "    },\n",
    "    {\n",
    "        \"name\": \"Holocnemus pluchei\",\n",
    "        \"family\": \"Pholcidae\",\n",
    "        \"specs\": {\n",
    "            \"speed\": 0.05,\n",
    "            \"size\": 0.8,\n",
    "            \"threat\": 0,\n",
    "            \"eyesight\": 10,\n",
    "        },\n",
    "    },\n",
    "    {\n",
    "        \"name\": \"Hogna radiata\",\n",
    "        \"family\": \"Lycosidae\",\n",
    "        \"specs\": {\n",
    "            \"speed\": 0.65,\n",
    "            \"size\": 2,\n",
    "            \"threat\": 4,\n",
    "            \"eyesight\": 20,\n",
    "        },\n",
    "    },\n",
    "    {\n",
    "        \"name\": \"Atrax robustus\",\n",
    "        \"family\": \"Atracidae\",\n",
    "        \"specs\": {\n",
    "            \"speed\": 0.40,\n",
    "            \"size\": 5,\n",
    "            \"threat\": 9,\n",
    "            \"eyesight\": 15,\n",
    "        },\n",
    "    },\n",
    "    {\n",
    "        \"name\": \"Argiope bruennichi\",\n",
    "        \"family\": \"Araneidae\",\n",
    "        \"specs\": {\n",
    "            \"speed\": 0.10,\n",
    "            \"size\": 2.5,\n",
    "            \"threat\": 6,\n",
    "            \"eyesight\": 12,\n",
    "        },\n",
    "    },\n",
    "    {\n",
    "        \"name\": \"Loxosceles rufescens\",\n",
    "        \"family\": \"Sicariidae\",\n",
    "        \"specs\": {\n",
    "            \"speed\": 0.45,\n",
    "            \"size\": 0.8,\n",
    "            \"threat\": 7.5,\n",
    "            \"eyesight\": 8,\n",
    "        },\n",
    "    },\n",
    "    {\n",
    "        \"name\": \"Scytodes thoracica\",\n",
    "        \"family\": \"Scytodidae\",\n",
    "        \"specs\": {\n",
    "            \"speed\": 0.15,\n",
    "            \"size\": 0.6,\n",
    "            \"threat\": 0,\n",
    "            \"eyesight\": 10,\n",
    "        },\n",
    "    },\n",
    "    {\n",
    "        \"name\": \"Phoneutria fera\",\n",
    "        \"family\": \"Ctenizidae\",\n",
    "        \"specs\": {\n",
    "            \"speed\": 0.75,\n",
    "            \"size\": 4.8,\n",
    "            \"threat\": 10,\n",
    "            \"eyesight\": 35,\n",
    "        },\n",
    "    },\n",
    "    {\n",
    "        \"name\": \"Uloborus plumipes\",\n",
    "        \"family\": \"Uloboridae\",\n",
    "        \"specs\": {\n",
    "            \"speed\": 0.25,\n",
    "            \"size\": 1.4,\n",
    "            \"threat\": 0,\n",
    "            \"eyesight\": 18,\n",
    "        },\n",
    "    },\n",
    "]"
   ]
  },
  {
   "cell_type": "code",
   "execution_count": null,
   "id": "e9afa9db-07fd-49e2-896a-be525d678220",
   "metadata": {},
   "outputs": [],
   "source": [
    "ranges = {}\n",
    "traits = [\"speed\", \"size\", \"threat\", \"eyesight\"]\n",
    "for trait in traits:\n",
    "    max_val = max(critter[\"specs\"][trait] for critter in raw_critters)\n",
    "    min_val = min(critter[\"specs\"][trait] for critter in raw_critters)\n",
    "    print(f\"{trait}: {min_val} to {max_val}\")\n",
    "    ranges[trait] = (min_val, max_val)"
   ]
  },
  {
   "cell_type": "markdown",
   "id": "bb84cd8a-300b-4a37-b6fb-3efa70b54612",
   "metadata": {},
   "source": [
    "### A (simplistic) way to make traits 'comparable'\n",
    "\n",
    "_Nothing replaces careful inspection, statistics and human-made decisions here. Also nonlinear scales and/or [-1/+1] ranges might be a good idea ..._"
   ]
  },
  {
   "cell_type": "code",
   "execution_count": null,
   "id": "0e3b18a1-8065-4161-a41f-32dfa2f6ce23",
   "metadata": {},
   "outputs": [],
   "source": [
    "def _rescale(val, v_range):\n",
    "    if val < v_range[0]:\n",
    "        return 0\n",
    "    elif val > v_range[1]:\n",
    "        return 1\n",
    "    else:\n",
    "        return (val - v_range[0]) / (v_range[1] - v_range[0])\n",
    "\n",
    "\n",
    "def normalize_specs(raw_specs):\n",
    "    return {\n",
    "        trait: _rescale(tr_val, ranges[trait])\n",
    "        for trait, tr_val in raw_specs.items()\n",
    "    }"
   ]
  },
  {
   "cell_type": "code",
   "execution_count": null,
   "id": "e9baafba-094b-4f9b-b089-733fa874729f",
   "metadata": {},
   "outputs": [],
   "source": [
    "def make_list(specs):\n",
    "    return [specs[trait] for trait in traits]"
   ]
  },
  {
   "cell_type": "code",
   "execution_count": null,
   "id": "a7b84798-6f50-4b92-8c88-05c73adea5f0",
   "metadata": {},
   "outputs": [],
   "source": [
    "print(f\"Specs normalization (traits = '{', '.join(traits)}'):\")\n",
    "for critter in raw_critters[:3]:\n",
    "    print(f\"    {make_list(critter['specs'])}\", end=\" ==> \")\n",
    "    print(make_list(normalize_specs(critter[\"specs\"])), end=\"\")\n",
    "    print(f\", for '{critter['name']}'\")"
   ]
  },
  {
   "cell_type": "markdown",
   "id": "75943aa3-728a-4bd0-abbf-2fb8a0bb2a8d",
   "metadata": {},
   "source": [
    "### A sample plot"
   ]
  },
  {
   "cell_type": "code",
   "execution_count": null,
   "id": "6723280c-a628-4473-8588-b920d77573e4",
   "metadata": {},
   "outputs": [],
   "source": [
    "trait_x = \"eyesight\"\n",
    "trait_y = \"speed\"\n",
    "raw_values_x = [critter[\"specs\"][trait_x] for critter in raw_critters]\n",
    "raw_values_y = [critter[\"specs\"][trait_y] for critter in raw_critters]\n",
    "norm_values_x = [normalize_specs(critter[\"specs\"])[trait_x] for critter in raw_critters]\n",
    "norm_values_y = [normalize_specs(critter[\"specs\"])[trait_y] for critter in raw_critters]\n",
    "\n",
    "fig = plt.figure\n",
    "plt.scatter(raw_values_x, raw_values_y, s=150)\n",
    "plt.title(\"Raw traits\")\n",
    "plt.xlabel(trait_x)\n",
    "plt.ylabel(trait_y)\n",
    "plt.show()"
   ]
  },
  {
   "cell_type": "code",
   "execution_count": null,
   "id": "f85d34cb-bfaf-415a-9761-c42b0894fc4c",
   "metadata": {},
   "outputs": [],
   "source": [
    "fig = plt.figure(figsize=(4, 4))\n",
    "plt.scatter(norm_values_x, norm_values_y, s=150, color=\"purple\")\n",
    "plt.title(\"Normalized traits\")\n",
    "plt.xlabel(trait_x)\n",
    "plt.ylabel(trait_y)\n",
    "plt.xlim((0, 1))\n",
    "plt.ylim((0, 1))\n",
    "plt.show()"
   ]
  },
  {
   "cell_type": "markdown",
   "id": "62885a41-d99a-493a-996c-8c2975277193",
   "metadata": {},
   "source": [
    "## Write to DB\n",
    "\n",
    "The vector comes from the _normalized_ traits (... or it will hardly make sense!)"
   ]
  },
  {
   "cell_type": "code",
   "execution_count": null,
   "id": "af150cd3-1ca3-4e49-9e78-8962f5ddbb86",
   "metadata": {},
   "outputs": [],
   "source": [
    "spiders_collection = db.create_collection(\n",
    "    \"spiders\",\n",
    "    dimension=4,\n",
    "    metric=VectorMetric.EUCLIDEAN,\n",
    "    check_exists=False,\n",
    ")\n",
    "# just in case this demo is re-run\n",
    "spiders_collection.delete_all()"
   ]
  },
  {
   "cell_type": "code",
   "execution_count": null,
   "id": "81d8d77b-a017-4d29-a16a-897dd6838095",
   "metadata": {},
   "outputs": [],
   "source": [
    "spiders_collection.insert_many(\n",
    "    raw_critters,\n",
    "    vectors=[\n",
    "        make_list(normalize_specs(critter[\"specs\"]))\n",
    "        for critter in raw_critters\n",
    "    ]\n",
    ")"
   ]
  },
  {
   "cell_type": "markdown",
   "id": "3b959773-3a54-40da-8659-c6158d52b034",
   "metadata": {},
   "source": [
    "## Search\n",
    "\n",
    "Find a similar ~product~ spider:"
   ]
  },
  {
   "cell_type": "code",
   "execution_count": null,
   "id": "a235fce4-d30f-4ecb-953a-6b2d0ab7ac24",
   "metadata": {},
   "outputs": [],
   "source": [
    "def find_similar(query_specs):\n",
    "    query_vector = make_list(normalize_specs(query_specs))\n",
    "    results = spiders_collection.find(vector=query_vector, limit=2, include_similarity=True)\n",
    "    return results"
   ]
  },
  {
   "cell_type": "code",
   "execution_count": null,
   "id": "8592aba0-dc77-4e52-a580-89708e42652b",
   "metadata": {},
   "outputs": [],
   "source": [
    "ref_specs = {\n",
    "    \"speed\": 0.12,\n",
    "    \"size\": 1.2,\n",
    "    \"threat\": 4,\n",
    "    \"eyesight\": 30,\n",
    "}\n",
    "\n",
    "print(\"Your results:\")\n",
    "for result_i, result in enumerate(find_similar(ref_specs)):\n",
    "    print(f\"  [{result_i + 1}] '{result['name']}' (fam. {result['family']})\")"
   ]
  },
  {
   "cell_type": "markdown",
   "id": "2ab13c65-a977-45b8-bbf1-82e400fab9f5",
   "metadata": {},
   "source": [
    "## Cleanup"
   ]
  },
  {
   "cell_type": "code",
   "execution_count": null,
   "id": "0ef5050e-989e-4871-9d26-1d3b80649c06",
   "metadata": {},
   "outputs": [],
   "source": [
    "spiders_collection.delete_all()\n",
    "\n",
    "# free all resources with:\n",
    "# spiders_collection.drop()"
   ]
  }
 ],
 "metadata": {
  "kernelspec": {
   "display_name": "Python 3 (ipykernel)",
   "language": "python",
   "name": "python3"
  },
  "language_info": {
   "codemirror_mode": {
    "name": "ipython",
    "version": 3
   },
   "file_extension": ".py",
   "mimetype": "text/x-python",
   "name": "python",
   "nbconvert_exporter": "python",
   "pygments_lexer": "ipython3",
   "version": "3.10.12"
  }
 },
 "nbformat": 4,
 "nbformat_minor": 5
}
