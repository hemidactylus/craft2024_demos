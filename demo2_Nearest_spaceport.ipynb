{
 "cells": [
  {
   "cell_type": "markdown",
   "id": "43d3a60f-63f8-4b5d-9319-c49ee44ca561",
   "metadata": {},
   "source": [
    "# Demo 2 - nearest spaceport"
   ]
  },
  {
   "cell_type": "code",
   "execution_count": null,
   "id": "66fc24b5-a5c3-40cb-9a5b-54a7fa7f122a",
   "metadata": {},
   "outputs": [],
   "source": [
    "!pip install --quiet \"astrapy>=1.2.0\" \"python-dotenv>=1.0.0\""
   ]
  },
  {
   "cell_type": "code",
   "execution_count": null,
   "id": "da29571f-fffc-4ea0-bc21-278138454550",
   "metadata": {},
   "outputs": [],
   "source": [
    "import getpass\n",
    "import os\n",
    "\n",
    "from dotenv import load_dotenv\n",
    "\n",
    "from astrapy import DataAPIClient\n",
    "from astrapy.constants import VectorMetric\n",
    "from astrapy.ids import ObjectId"
   ]
  },
  {
   "cell_type": "markdown",
   "id": "ae87ac27-0243-4adb-b60b-5c2dffad094e",
   "metadata": {},
   "source": [
    "## Setup DB"
   ]
  },
  {
   "cell_type": "code",
   "execution_count": null,
   "id": "e6da120b-9be9-4c3f-b273-ffa1a897aacb",
   "metadata": {},
   "outputs": [],
   "source": [
    "load_dotenv()\n",
    "\n",
    "if \"ASTRA_DB_APPLICATION_TOKEN\" not in os.environ:\n",
    "    os.environ[\"ASTRA_DB_APPLICATION_TOKEN\"] = getpass.getpass(\"Please input your Astra DB Token:\")\n",
    "\n",
    "if \"ASTRA_DB_API_ENDPOINT\" not in os.environ:\n",
    "    os.environ[\"ASTRA_DB_API_ENDPOINT\"] = input(\"Please input your Astra DB API Endpoint:\")\n",
    "\n",
    "if \"ASTRA_DB_KEYSPACE\" not in os.environ:\n",
    "    _namespace = input(\"(Optional) Input your Astra DB namespace if desired, or leave blank:\")\n",
    "    if _namespace:\n",
    "        os.environ[\"ASTRA_DB_KEYSPACE\"] = _namespace\n",
    "\n",
    "ASTRA_DB_APPLICATION_TOKEN = os.environ[\"ASTRA_DB_APPLICATION_TOKEN\"]\n",
    "ASTRA_DB_API_ENDPOINT = os.environ[\"ASTRA_DB_API_ENDPOINT\"]\n",
    "ASTRA_DB_KEYSPACE = os.environ.get(\"ASTRA_DB_KEYSPACE\")"
   ]
  },
  {
   "cell_type": "code",
   "execution_count": null,
   "id": "531669f9-cbe0-41a8-ab57-fe4294a4aee6",
   "metadata": {},
   "outputs": [],
   "source": [
    "db = DataAPIClient(ASTRA_DB_APPLICATION_TOKEN).get_database(ASTRA_DB_API_ENDPOINT, namespace=ASTRA_DB_KEYSPACE)"
   ]
  },
  {
   "cell_type": "code",
   "execution_count": null,
   "id": "a86f805c-e165-4297-9fb2-d697edd34921",
   "metadata": {},
   "outputs": [],
   "source": [
    "spaceports_collection = db.create_collection(\n",
    "    \"craftdemo3d_euclidean\",\n",
    "    dimension=3,\n",
    "    metric=VectorMetric.EUCLIDEAN,\n",
    "    check_exists=False,\n",
    ")\n",
    "spaceports_collection.delete_all()"
   ]
  },
  {
   "cell_type": "markdown",
   "id": "3270ac7c-5173-46b0-ae11-d53b617d5948",
   "metadata": {},
   "source": [
    "## Data input"
   ]
  },
  {
   "cell_type": "code",
   "execution_count": null,
   "id": "4f597eef-fea4-404f-9405-201866af086a",
   "metadata": {},
   "outputs": [],
   "source": [
    "spaceports = [\n",
    "    {\n",
    "        \"_id\": ObjectId(\"6642938483ffc52bf749ab6a\"),\n",
    "        \"name\": \"Rigel Raststatte\",\n",
    "        \"metadata\": {\n",
    "            \"rating\": 9.0,\n",
    "            \"restaurant\": False,\n",
    "            \"tags\": [\"killer_robots\"],\n",
    "        },\n",
    "        \"$vector\": [100, 10, 70],\n",
    "    },\n",
    "    {\n",
    "        \"_id\": ObjectId(\"6642939583ffc52bf749ab70\"),\n",
    "        \"name\": \"Betelgeuse Bay\",\n",
    "        \"metadata\": {\n",
    "            \"rating\": 6.5,\n",
    "            \"restaurant\": False,\n",
    "            \"tags\": [\"garden\", \"playground\"],\n",
    "        },\n",
    "        \"$vector\": [20, 0, 50],\n",
    "    },\n",
    "    {\n",
    "        \"_id\": ObjectId(\"6642939d83ffc52bf749ab74\"),\n",
    "        \"name\": \"Orion's Belt Bellevue\",\n",
    "        \"metadata\": {\n",
    "            \"rating\": 4.5,\n",
    "            \"restaurant\": True,\n",
    "            \"tags\": [\"playground\", \"lightsabers\"],\n",
    "        },\n",
    "        \"$vector\": [40, 80, 30],\n",
    "    },\n",
    "]"
   ]
  },
  {
   "cell_type": "code",
   "execution_count": null,
   "id": "b7645595-6b86-4cb1-a4be-945a4ddd0ce7",
   "metadata": {},
   "outputs": [],
   "source": [
    "im_result = spaceports_collection.insert_many(spaceports)\n",
    "for inserted_id in im_result.inserted_ids:\n",
    "    print(f\"Inserted: {inserted_id}\")"
   ]
  },
  {
   "cell_type": "markdown",
   "id": "cb5d6e53-befd-4cc4-87dc-4a8e6ca1e29e",
   "metadata": {},
   "source": [
    "## Find nearest spaceport"
   ]
  },
  {
   "cell_type": "code",
   "execution_count": null,
   "id": "d22c5a8c-fc8e-45fd-83be-d919d856360b",
   "metadata": {},
   "outputs": [],
   "source": [
    "# your galactic coordinates:\n",
    "my_location = [0, 10, 50]"
   ]
  },
  {
   "cell_type": "code",
   "execution_count": null,
   "id": "b138a4f3-2888-4428-8cd9-136fa358a44f",
   "metadata": {},
   "outputs": [],
   "source": [
    "result1 = spaceports_collection.find_one(vector=my_location)\n",
    "if result1:\n",
    "    print(f\"Closest => {result1['name']} ({result1['_id']})\")\n",
    "else:\n",
    "    print(\"(no matches)\")"
   ]
  },
  {
   "cell_type": "code",
   "execution_count": null,
   "id": "f2f8e67f-a74c-43a7-b16a-9f87913e69ae",
   "metadata": {},
   "outputs": [],
   "source": [
    "result2 = spaceports_collection.find_one(\n",
    "    vector=my_location,\n",
    "    filter={\"metadata.restaurant\": True},\n",
    ")\n",
    "\n",
    "if result2:\n",
    "    print(f\"Closest => {result2['name']} ({result2['_id']})\")\n",
    "else:\n",
    "    print(\"(no matches)\")"
   ]
  },
  {
   "cell_type": "code",
   "execution_count": null,
   "id": "7a05b23c-8096-4e35-a91e-eaabc42991af",
   "metadata": {},
   "outputs": [],
   "source": [
    "result3 = spaceports_collection.find_one(\n",
    "    filter={\"metadata.rating\": {\"$gt\": 7.2}},\n",
    "    vector=my_location,\n",
    ")\n",
    "if result3:\n",
    "    print(f\"Closest => {result3['name']} ({result3['_id']})\")\n",
    "else:\n",
    "    print(\"(no matches)\")"
   ]
  },
  {
   "cell_type": "code",
   "execution_count": null,
   "id": "03e5fafb-6bee-43fe-8685-b1ae71d69d77",
   "metadata": {},
   "outputs": [],
   "source": [
    "result4 = spaceports_collection.find_one(\n",
    "    filter={\"metadata.rating\": {\"$gt\": 7.2}, \"metadata.restaurant\": True},\n",
    "    vector=my_location,\n",
    ")\n",
    "if result4:\n",
    "    print(f\"Closest => {result4['name']} ({result4['_id']})\")\n",
    "else:\n",
    "    print(\"(no matches)\")"
   ]
  },
  {
   "cell_type": "markdown",
   "id": "a0ef2450-b9bf-4e48-bbc3-718c90533b85",
   "metadata": {},
   "source": [
    "# Cleanup"
   ]
  },
  {
   "cell_type": "code",
   "execution_count": null,
   "id": "da2da71c-caa6-4172-8f0c-9a957809b0e0",
   "metadata": {},
   "outputs": [],
   "source": [
    "### To delete the inserted data, run:\n",
    "# spaceports_collection.delete_all()\n",
    "\n",
    "### To remove the very collection, run:\n",
    "spaceports_collection.drop()"
   ]
  },
  {
   "cell_type": "markdown",
   "id": "1e9a49bf-d059-49a4-9837-e03ffccbb60f",
   "metadata": {},
   "source": [
    "### The end"
   ]
  }
 ],
 "metadata": {
  "kernelspec": {
   "display_name": "Python 3 (ipykernel)",
   "language": "python",
   "name": "python3"
  },
  "language_info": {
   "codemirror_mode": {
    "name": "ipython",
    "version": 3
   },
   "file_extension": ".py",
   "mimetype": "text/x-python",
   "name": "python",
   "nbconvert_exporter": "python",
   "pygments_lexer": "ipython3",
   "version": "3.11.2"
  }
 },
 "nbformat": 4,
 "nbformat_minor": 5
}
