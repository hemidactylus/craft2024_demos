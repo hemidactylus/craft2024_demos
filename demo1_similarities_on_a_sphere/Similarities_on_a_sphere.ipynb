{
 "cells": [
  {
   "cell_type": "markdown",
   "id": "afdd1389-b7e6-4eb5-9e20-ecc9fe9ef97d",
   "metadata": {},
   "source": [
    "# Demo 1 - similarities on a sphere"
   ]
  },
  {
   "cell_type": "code",
   "execution_count": null,
   "id": "fefe288f-f83b-4cab-ae48-15e243ff60d1",
   "metadata": {},
   "outputs": [],
   "source": [
    "!pip install --quiet \"astrapy>=1.0.0\" \"python-dotenv>=1.0.0\""
   ]
  },
  {
   "cell_type": "code",
   "execution_count": null,
   "id": "d4ce9f05-9626-477f-9264-09a389cb521e",
   "metadata": {},
   "outputs": [],
   "source": [
    "import getpass\n",
    "import math\n",
    "import os\n",
    "\n",
    "from dotenv import load_dotenv\n",
    "\n",
    "from astrapy import DataAPIClient\n",
    "from astrapy.constants import VectorMetric"
   ]
  },
  {
   "cell_type": "markdown",
   "id": "335c22b6-17e2-4909-a1c4-4f6b5a8255aa",
   "metadata": {},
   "source": [
    "## Setup DB"
   ]
  },
  {
   "cell_type": "code",
   "execution_count": null,
   "id": "250b8058-b589-4793-8c4c-a7d373d6d301",
   "metadata": {},
   "outputs": [],
   "source": [
    "load_dotenv()\n",
    "\n",
    "if \"ASTRA_DB_APPLICATION_TOKEN\" not in os.environ:\n",
    "    os[\"ASTRA_DB_APPLICATION_TOKEN\"] = getpass.getpass(\"Please input your Astra DB Token:\")\n",
    "\n",
    "if \"ASTRA_DB_API_ENDPOINT\" not in os.environ:\n",
    "    os.environ[\"ASTRA_DB_API_ENDPOINT\"] = input(\"Please input your Astra DB API Endpoint:\")\n",
    "\n",
    "if \"ASTRA_DB_KEYSPACE\" not in os.environ:\n",
    "    _namespace = input(\"(Optional) Input your Astra DB namespace if desired, or leave blank:\")\n",
    "    if _namespace:\n",
    "        os.environ[\"ASTRA_DB_KEYSPACE\"] = _namespace\n",
    "\n",
    "ASTRA_DB_APPLICATION_TOKEN = os.environ[\"ASTRA_DB_APPLICATION_TOKEN\"]\n",
    "ASTRA_DB_API_ENDPOINT = os.environ[\"ASTRA_DB_API_ENDPOINT\"]\n",
    "ASTRA_DB_KEYSPACE = os.environ.get(\"ASTRA_DB_KEYSPACE\")"
   ]
  },
  {
   "cell_type": "code",
   "execution_count": null,
   "id": "07523f4b-dfa1-4887-af90-3bbcc9faf64c",
   "metadata": {},
   "outputs": [],
   "source": [
    "db = DataAPIClient(ASTRA_DB_APPLICATION_TOKEN).get_database_by_api_endpoint(ASTRA_DB_API_ENDPOINT, namespace=ASTRA_DB_KEYSPACE)"
   ]
  },
  {
   "cell_type": "markdown",
   "id": "e04a3a7e-54e1-4dca-af01-d38efff6dbb0",
   "metadata": {},
   "source": [
    "## Tools"
   ]
  },
  {
   "cell_type": "code",
   "execution_count": null,
   "id": "11ea47bf-f94c-47c4-b869-2ba87bbc9aeb",
   "metadata": {},
   "outputs": [],
   "source": [
    "def vector_norm(v):\n",
    "    return (sum(v_i*v_i for v_i in v))**0.5\n",
    "\n",
    "print(\"Norm test:\")\n",
    "print(f\"  [3, 6, 2] => {vector_norm([3, 6, 2]):.4f}\")\n",
    "print(f\"  [0.9877, 0.1564] => {vector_norm([0.9877, 0.1564]):.4f}\")"
   ]
  },
  {
   "cell_type": "code",
   "execution_count": null,
   "id": "ced0cce0-09b7-4e82-a5cd-603209045bf3",
   "metadata": {},
   "outputs": [],
   "source": [
    "v_documents = [\n",
    "    {\"name\": \"Evarcha\",      \"$vector\": [0.4045, 0.7939, 0.4540]},\n",
    "    {\"name\": \"Marpissa\",     \"$vector\": [0.1106, 0.6984, 0.7071]},\n",
    "    {\"name\": \"Salticus\",     \"$vector\": [0.3673, 0.2668, 0.8910]},\n",
    "    {\"name\": \"Heliophanus\",  \"$vector\": [0.4156, 0.5721, 0.7071]},\n",
    "    {\"name\": \"Tmarus\",       \"$vector\": [0.9045, 0.2939, 0.3090]},\n",
    "    {\"name\": \"Amaurobius\",   \"$vector\": [0.9877, 0.1564, 0.0000]},\n",
    "    {\"name\": \"Enoplognatha\", \"$vector\": [-0.0483, -0.1488, 0.9877]},\n",
    "]"
   ]
  },
  {
   "cell_type": "markdown",
   "id": "c23a1c70-2499-4cdb-83c1-3eb21de0e055",
   "metadata": {},
   "source": [
    "#### Sanity check: vector norms\n",
    "\n",
    "(we truncated the component for the sake of clarity, so this will be approximated to the 4th digit or so...)"
   ]
  },
  {
   "cell_type": "code",
   "execution_count": null,
   "id": "ccd9944b-71c1-4ec0-9e04-b007379b6b95",
   "metadata": {},
   "outputs": [],
   "source": [
    "print(\"Document norms:\")\n",
    "for v_document in v_documents:\n",
    "    norm = vector_norm(v_document[\"$vector\"])\n",
    "    print(f\"  Norm for {v_document['name']}: {norm:0.4f}\")"
   ]
  },
  {
   "cell_type": "markdown",
   "id": "48dfde4c-b861-487c-b585-c2deed136400",
   "metadata": {},
   "source": [
    "#### Curious as to how we created these vectors?"
   ]
  },
  {
   "cell_type": "markdown",
   "id": "822dbe07-55a4-4c20-bd48-651e4a799128",
   "metadata": {},
   "source": [
    "The answer is trigonometry and the [polar coordinates](https://en.wikipedia.org/wiki/Spherical_coordinate_system#Cartesian_coordinates) for the 3D sphere:\n",
    "\n",
    "```python\n",
    "def sphere_vector(theta, phi, norm=1):\n",
    "    rz = norm * math.sin(theta)\n",
    "    rx = norm * math.cos(theta) * math.sin(phi)\n",
    "    ry = norm * math.cos(theta) * math.cos(phi)\n",
    "    return [rx, ry, rz]\n",
    "\n",
    "\n",
    "v_documents = [\n",
    "    {\"name\": \"Evarcha\", \"$vector\": sphere_vector(math.pi * 0.15, math.pi * 0.15)},\n",
    "    {\"name\": \"Marpissa\", \"$vector\": sphere_vector(math.pi * 0.25, math.pi * 0.05)},\n",
    "    {\"name\": \"Salticus\", \"$vector\": sphere_vector(math.pi * 0.35, math.pi * 0.30)},\n",
    "    {\"name\": \"Heliophanus\", \"$vector\": sphere_vector(math.pi * 0.25, math.pi * 0.20)},\n",
    "    {\"name\": \"Tmarus\", \"$vector\": sphere_vector(math.pi * 0.10, math.pi * 0.40)},\n",
    "    {\"name\": \"Amaurobius\", \"$vector\": sphere_vector(math.pi * 0.00, math.pi * 0.45)},\n",
    "    {\"name\": \"Enoplognatha\", \"$vector\": sphere_vector(math.pi * 0.55, math.pi * 0.10)},\n",
    "]\n",
    "\n",
    "query = sphere_vector(math.pi * 0.18, math.pi * 0.32)\n",
    "```"
   ]
  },
  {
   "cell_type": "markdown",
   "id": "1509e6fa-e736-4934-a6ec-d5a02e32fd7d",
   "metadata": {},
   "source": [
    "## Euclidean ANN"
   ]
  },
  {
   "cell_type": "code",
   "execution_count": null,
   "id": "d5799d3f-3f9c-41d2-b7df-e08852c31357",
   "metadata": {},
   "outputs": [],
   "source": [
    "collection_e = db.create_collection(\n",
    "    \"craftdemo3d_euclidean\",\n",
    "    dimension=3,\n",
    "    metric=VectorMetric.EUCLIDEAN,\n",
    "    check_exists=False,\n",
    ")"
   ]
  },
  {
   "cell_type": "code",
   "execution_count": null,
   "id": "b89e66a9-20c8-4388-b958-3d001c6937af",
   "metadata": {},
   "outputs": [],
   "source": [
    "collection_e.insert_many(v_documents)"
   ]
  },
  {
   "cell_type": "code",
   "execution_count": null,
   "id": "e4ce4429-1b86-4c6f-9464-62f9c6d73d4f",
   "metadata": {},
   "outputs": [],
   "source": [
    "query = [0.7129, 0.4524, 0.5358]\n",
    "\n",
    "for document in collection_e.find(vector=query):\n",
    "    print(document[\"name\"])"
   ]
  },
  {
   "cell_type": "markdown",
   "id": "9a885de2-3aea-4f3c-9849-3f606c0a86ae",
   "metadata": {},
   "source": [
    "## Cosine ANN"
   ]
  },
  {
   "cell_type": "code",
   "execution_count": null,
   "id": "e48b35b3-ee42-4f4a-b824-be6300c8116c",
   "metadata": {},
   "outputs": [],
   "source": [
    "collection_c = db.create_collection(\n",
    "    \"craftdemo3d_cosine\",\n",
    "    dimension=3,\n",
    "    metric=VectorMetric.COSINE,\n",
    "    check_exists=False,\n",
    ")"
   ]
  },
  {
   "cell_type": "code",
   "execution_count": null,
   "id": "80890201-c047-4aaa-ab98-1770219a6188",
   "metadata": {},
   "outputs": [],
   "source": [
    "collection_c.insert_many(v_documents)"
   ]
  },
  {
   "cell_type": "code",
   "execution_count": null,
   "id": "bfadabb8-2f38-4f0c-b4d7-f4c2a3d532f1",
   "metadata": {},
   "outputs": [],
   "source": [
    "for document in collection_c.find(vector=query):\n",
    "    print(document[\"name\"])"
   ]
  },
  {
   "cell_type": "code",
   "execution_count": null,
   "id": "d5e80cfb-3015-4305-a06f-44f99d813215",
   "metadata": {},
   "outputs": [],
   "source": [
    "for document in collection_c.find(vector=query):\n",
    "    print(document[\"name\"][0], end=\"\")"
   ]
  },
  {
   "cell_type": "markdown",
   "id": "66ee8de5-224a-48da-9f10-11f0d8cc5341",
   "metadata": {},
   "source": [
    "## Cleanup"
   ]
  },
  {
   "cell_type": "code",
   "execution_count": null,
   "id": "e6b4d7ac-3659-40d8-9961-248924bc2472",
   "metadata": {},
   "outputs": [],
   "source": [
    "collection_e.delete_all()\n",
    "collection_c.delete_all\n",
    "\n",
    "### To remove the very collections, run:\n",
    "# collection_e.drop()\n",
    "# collection_c.drop()"
   ]
  }
 ],
 "metadata": {
  "kernelspec": {
   "display_name": "Python 3 (ipykernel)",
   "language": "python",
   "name": "python3"
  },
  "language_info": {
   "codemirror_mode": {
    "name": "ipython",
    "version": 3
   },
   "file_extension": ".py",
   "mimetype": "text/x-python",
   "name": "python",
   "nbconvert_exporter": "python",
   "pygments_lexer": "ipython3",
   "version": "3.10.12"
  }
 },
 "nbformat": 4,
 "nbformat_minor": 5
}
