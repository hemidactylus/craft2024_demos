{
 "cells": [
  {
   "cell_type": "markdown",
   "id": "43d3a60f-63f8-4b5d-9319-c49ee44ca561",
   "metadata": {},
   "source": [
    "# Demo 5 - Sort your critters"
   ]
  },
  {
   "cell_type": "code",
   "execution_count": null,
   "id": "66fc24b5-a5c3-40cb-9a5b-54a7fa7f122a",
   "metadata": {},
   "outputs": [],
   "source": [
    "!pip install --quiet \"astrapy>=1.0.0\" \"python-dotenv>=1.0.0\""
   ]
  },
  {
   "cell_type": "code",
   "execution_count": null,
   "id": "da29571f-fffc-4ea0-bc21-278138454550",
   "metadata": {},
   "outputs": [],
   "source": [
    "import getpass\n",
    "import os\n",
    "\n",
    "from dotenv import load_dotenv\n",
    "\n",
    "from astrapy import DataAPIClient\n",
    "from astrapy.constants import VectorMetric"
   ]
  },
  {
   "cell_type": "markdown",
   "id": "ae87ac27-0243-4adb-b60b-5c2dffad094e",
   "metadata": {},
   "source": [
    "## Setup DB"
   ]
  },
  {
   "cell_type": "code",
   "execution_count": null,
   "id": "e6da120b-9be9-4c3f-b273-ffa1a897aacb",
   "metadata": {},
   "outputs": [],
   "source": [
    "load_dotenv()\n",
    "\n",
    "if \"ASTRA_DB_APPLICATION_TOKEN\" not in os.environ:\n",
    "    os.environ[\"ASTRA_DB_APPLICATION_TOKEN\"] = getpass.getpass(\"Please input your Astra DB Token:\")\n",
    "\n",
    "if \"ASTRA_DB_API_ENDPOINT\" not in os.environ:\n",
    "    os.environ[\"ASTRA_DB_API_ENDPOINT\"] = input(\"Please input your Astra DB API Endpoint:\")\n",
    "\n",
    "if \"ASTRA_DB_KEYSPACE\" not in os.environ:\n",
    "    _namespace = input(\"(Optional) Input your Astra DB namespace if desired, or leave blank:\")\n",
    "    if _namespace:\n",
    "        os.environ[\"ASTRA_DB_KEYSPACE\"] = _namespace\n",
    "\n",
    "ASTRA_DB_APPLICATION_TOKEN = os.environ[\"ASTRA_DB_APPLICATION_TOKEN\"]\n",
    "ASTRA_DB_API_ENDPOINT = os.environ[\"ASTRA_DB_API_ENDPOINT\"]\n",
    "ASTRA_DB_KEYSPACE = os.environ.get(\"ASTRA_DB_KEYSPACE\")"
   ]
  },
  {
   "cell_type": "code",
   "execution_count": null,
   "id": "531669f9-cbe0-41a8-ab57-fe4294a4aee6",
   "metadata": {},
   "outputs": [],
   "source": [
    "db = DataAPIClient(ASTRA_DB_APPLICATION_TOKEN).get_database_by_api_endpoint(ASTRA_DB_API_ENDPOINT, namespace=ASTRA_DB_KEYSPACE)"
   ]
  },
  {
   "cell_type": "markdown",
   "id": "0d65ced5-3f59-4a8b-a10a-41864a4aa99c",
   "metadata": {},
   "source": [
    "## Raw data\n",
    "\n",
    "It's the same as the previous demo:"
   ]
  },
  {
   "cell_type": "code",
   "execution_count": null,
   "id": "a3aa98ef-8c3b-4231-87b4-096082a4f01b",
   "metadata": {},
   "outputs": [],
   "source": [
    "raw_critters = [\n",
    "    {\n",
    "        \"name\": \"Eratigena atrica\",\n",
    "        \"family\": \"Agelenidae\",\n",
    "        \"specs\": {\n",
    "            \"speed\": 0.8,   # m/s (max running speed)\n",
    "            \"size\": 3,      # max body length, cm\n",
    "            \"threat\": 5.5,  # 0=harmless, 5=sore skin, 10=lethal\n",
    "            \"eyesight\": 5,  # cm\n",
    "        },\n",
    "    },\n",
    "    {\n",
    "        \"name\": \"Salticus scenicus\",\n",
    "        \"family\": \"Salticidae\",\n",
    "        \"specs\": {\n",
    "            \"speed\": 0.3,\n",
    "            \"size\": 0.4,\n",
    "            \"threat\": 0,\n",
    "            \"eyesight\": 35,\n",
    "        },\n",
    "    },\n",
    "    {\n",
    "        \"name\": \"Holocnemus pluchei\",\n",
    "        \"family\": \"Pholcidae\",\n",
    "        \"specs\": {\n",
    "            \"speed\": 0.05,\n",
    "            \"size\": 0.8,\n",
    "            \"threat\": 0,\n",
    "            \"eyesight\": 10,\n",
    "        },\n",
    "    },\n",
    "    {\n",
    "        \"name\": \"Hogna radiata\",\n",
    "        \"family\": \"Lycosidae\",\n",
    "        \"specs\": {\n",
    "            \"speed\": 0.65,\n",
    "            \"size\": 2,\n",
    "            \"threat\": 4,\n",
    "            \"eyesight\": 20,\n",
    "        },\n",
    "    },\n",
    "    {\n",
    "        \"name\": \"Atrax robustus\",\n",
    "        \"family\": \"Atracidae\",\n",
    "        \"specs\": {\n",
    "            \"speed\": 0.40,\n",
    "            \"size\": 5,\n",
    "            \"threat\": 9,\n",
    "            \"eyesight\": 15,\n",
    "        },\n",
    "    },\n",
    "    {\n",
    "        \"name\": \"Argiope bruennichi\",\n",
    "        \"family\": \"Araneidae\",\n",
    "        \"specs\": {\n",
    "            \"speed\": 0.10,\n",
    "            \"size\": 2.5,\n",
    "            \"threat\": 6,\n",
    "            \"eyesight\": 12,\n",
    "        },\n",
    "    },\n",
    "    {\n",
    "        \"name\": \"Loxosceles rufescens\",\n",
    "        \"family\": \"Sicariidae\",\n",
    "        \"specs\": {\n",
    "            \"speed\": 0.45,\n",
    "            \"size\": 0.8,\n",
    "            \"threat\": 7.5,\n",
    "            \"eyesight\": 8,\n",
    "        },\n",
    "    },\n",
    "    {\n",
    "        \"name\": \"Scytodes thoracica\",\n",
    "        \"family\": \"Scytodidae\",\n",
    "        \"specs\": {\n",
    "            \"speed\": 0.15,\n",
    "            \"size\": 0.6,\n",
    "            \"threat\": 0,\n",
    "            \"eyesight\": 10,\n",
    "        },\n",
    "    },\n",
    "    {\n",
    "        \"name\": \"Phoneutria fera\",\n",
    "        \"family\": \"Ctenizidae\",\n",
    "        \"specs\": {\n",
    "            \"speed\": 0.75,\n",
    "            \"size\": 4.8,\n",
    "            \"threat\": 10,\n",
    "            \"eyesight\": 35,\n",
    "        },\n",
    "    },\n",
    "    {\n",
    "        \"name\": \"Uloborus plumipes\",\n",
    "        \"family\": \"Uloboridae\",\n",
    "        \"specs\": {\n",
    "            \"speed\": 0.25,\n",
    "            \"size\": 1.4,\n",
    "            \"threat\": 0,\n",
    "            \"eyesight\": 18,\n",
    "        },\n",
    "    },\n",
    "]"
   ]
  },
  {
   "cell_type": "code",
   "execution_count": null,
   "id": "e9afa9db-07fd-49e2-896a-be525d678220",
   "metadata": {},
   "outputs": [],
   "source": [
    "ranges = {}\n",
    "traits = [\"speed\", \"size\", \"threat\", \"eyesight\"]\n",
    "for trait in traits:\n",
    "    max_val = max(critter[\"specs\"][trait] for critter in raw_critters)\n",
    "    min_val = min(critter[\"specs\"][trait] for critter in raw_critters)\n",
    "    print(f\"{trait}: {min_val} to {max_val}\")\n",
    "    ranges[trait] = (min_val, max_val)"
   ]
  },
  {
   "cell_type": "markdown",
   "id": "ff08d061-999b-4345-8c02-76ae1912d2b9",
   "metadata": {},
   "source": [
    "### Write entries with their raw \"vectors\"\n",
    "\n",
    "(note: \"vectors\" in the broadest sense here...)"
   ]
  },
  {
   "cell_type": "code",
   "execution_count": null,
   "id": "7bdfeff6-a825-4cfc-af57-f5280a210500",
   "metadata": {},
   "outputs": [],
   "source": [
    "spiders_dot_collection = db.create_collection(\n",
    "    \"spiders_dot\",\n",
    "    dimension=4,\n",
    "    metric=VectorMetric.DOT_PRODUCT,\n",
    "    check_exists=False,\n",
    ")\n",
    "# just in case this demo is re-run\n",
    "spiders_dot_collection.delete_all()"
   ]
  },
  {
   "cell_type": "code",
   "execution_count": null,
   "id": "de02bb9e-1c9c-496e-a3dc-884dae93ae2f",
   "metadata": {},
   "outputs": [],
   "source": [
    "def make_list(specs):\n",
    "    return [specs[trait] for trait in traits]\n",
    "\n",
    "print(make_list(raw_critters[3][\"specs\"]))"
   ]
  },
  {
   "cell_type": "code",
   "execution_count": null,
   "id": "4d9b9d6a-fc95-4323-8a3e-867e99ea22ef",
   "metadata": {},
   "outputs": [],
   "source": [
    "spiders_dot_collection.insert_many(\n",
    "    raw_critters,\n",
    "    vectors=[make_list(raw_critter[\"specs\"]) for raw_critter in raw_critters],\n",
    ")"
   ]
  },
  {
   "cell_type": "markdown",
   "id": "e24a1213-e935-4318-819f-896e9b51b548",
   "metadata": {},
   "source": [
    "## Sort by a trait\n",
    "\n",
    "Courtesy of a contrived use of Dot"
   ]
  },
  {
   "cell_type": "code",
   "execution_count": null,
   "id": "184a9264-a19b-4f38-9f03-650e1009c655",
   "metadata": {},
   "outputs": [],
   "source": [
    "# the index is not designed to deal with 'similarities' below 0:\n",
    "# make sure it's the case with a rescaling factor:\n",
    "_factor = 1.0 / (2.0 * max(abs(val) for rng in ranges.values() for val in rng))\n",
    "\n",
    "def sorting_vector(trait, ascending=False):\n",
    "    assert trait in traits\n",
    "    return [\n",
    "        0 if seq_trait != trait else (-_factor if ascending else +_factor)\n",
    "        for seq_trait in traits\n",
    "    ]"
   ]
  },
  {
   "cell_type": "code",
   "execution_count": null,
   "id": "c49a94f1-ea48-412c-9b93-746aa3f1383d",
   "metadata": {},
   "outputs": [],
   "source": [
    "print(sorting_vector(\"speed\"))\n",
    "print(sorting_vector(\"speed\", ascending=True))"
   ]
  },
  {
   "cell_type": "code",
   "execution_count": null,
   "id": "5a3fb2ee-c4db-46f9-aa86-bcc2cbebb3ae",
   "metadata": {},
   "outputs": [],
   "source": [
    "def sorted_results(trait, ascending=False, n=3):\n",
    "    query_vector = sorting_vector(trait, ascending)\n",
    "    return spiders_dot_collection.find(\n",
    "        vector=query_vector,\n",
    "        limit=n,\n",
    "        projection={\"$vector\": False},\n",
    "        include_similarity=True,\n",
    "    )"
   ]
  },
  {
   "cell_type": "code",
   "execution_count": null,
   "id": "19521a06-7186-4957-93ea-7562bcc40f50",
   "metadata": {},
   "outputs": [],
   "source": [
    "print(\"By speed:\")\n",
    "for cr_i, cr_doc in enumerate(sorted_results(\"speed\")):\n",
    "    print(f\"  [{cr_i + 1}, sim={cr_doc['$similarity']:.3f}] '{cr_doc['name']}' ({cr_doc['family']}), {cr_doc['specs']}\")"
   ]
  },
  {
   "cell_type": "code",
   "execution_count": null,
   "id": "5152a162-3d16-43ff-88ae-3e92e49067cb",
   "metadata": {},
   "outputs": [],
   "source": [
    "print(\"By size, ascending, top 5:\")\n",
    "for cr_i, cr_doc in enumerate(sorted_results(\"size\", ascending=True, n=5)):\n",
    "    print(f\"  [{cr_i + 1}, sim={cr_doc['$similarity']:.3f}] '{cr_doc['name']}' ({cr_doc['family']}), {cr_doc['specs']}\")"
   ]
  },
  {
   "cell_type": "markdown",
   "id": "b3fc1b14-47e7-4413-a4c5-95af3a7c6ea0",
   "metadata": {},
   "source": [
    "## Sort by any combination\n",
    "\n",
    "- A trick: \"move\" normalizing rescaling to the query vector\n",
    "- Limitation: assume traits scale from `[0 : M]` to `[0 : 1]`, i.e. fixed at zero"
   ]
  },
  {
   "cell_type": "code",
   "execution_count": null,
   "id": "acf991b4-aa86-4a1f-ace4-e2fb82b46fdf",
   "metadata": {},
   "outputs": [],
   "source": [
    "def multiscore_sorting_vector(trait_weights):\n",
    "    assert(all(w >= 0 for w in trait_weights.values()))\n",
    "    sum_w = sum(trait_weights.values())\n",
    "    return [\n",
    "        trait_weights.get(trait, 0) / (2.0 * sum_w * ranges[trait][1])\n",
    "        for trait in traits\n",
    "    ]"
   ]
  },
  {
   "cell_type": "code",
   "execution_count": null,
   "id": "9e4c41c6-cf11-4f4a-a6ed-03d6bfa3e0ac",
   "metadata": {},
   "outputs": [],
   "source": [
    "print(traits)\n",
    "\n",
    "print(multiscore_sorting_vector({\"speed\": 1}))\n",
    "print(multiscore_sorting_vector({\"speed\": 2, \"size\": 1}))"
   ]
  },
  {
   "cell_type": "code",
   "execution_count": null,
   "id": "53555779-8390-423b-b1b9-4ffa3eea846b",
   "metadata": {},
   "outputs": [],
   "source": [
    "def multiscore_sorted_results(trait_weights, n=3):\n",
    "    query_vector = multiscore_sorting_vector(trait_weights)\n",
    "    return spiders_dot_collection.find(\n",
    "        vector=query_vector,\n",
    "        limit=n,\n",
    "        projection={\"$vector\": False},\n",
    "        include_similarity=True,\n",
    "    )"
   ]
  },
  {
   "cell_type": "code",
   "execution_count": null,
   "id": "0734fbe9-338b-45e7-bac0-fd39cba105d2",
   "metadata": {},
   "outputs": [],
   "source": [
    "print(\"Mainly by speed, with a little size:\")\n",
    "for cr_i, cr_doc in enumerate(multiscore_sorted_results({\"speed\": 2, \"size\": 1}, n=5)):\n",
    "    print(f\"  [{cr_i + 1}, sim={cr_doc['$similarity']:.3f}] '{cr_doc['name']}' ({cr_doc['family']}), {cr_doc['specs']}\")"
   ]
  },
  {
   "cell_type": "code",
   "execution_count": null,
   "id": "5eb3b454-1e85-4879-878b-cac6df66ebe8",
   "metadata": {},
   "outputs": [],
   "source": [
    "print(\"Mainly by size, with a little speed:\")\n",
    "for cr_i, cr_doc in enumerate(multiscore_sorted_results({\"speed\": 1, \"size\": 2}, n=5)):\n",
    "    print(f\"  [{cr_i + 1}, sim={cr_doc['$similarity']:.3f}] '{cr_doc['name']}' ({cr_doc['family']}), {cr_doc['specs']}\")"
   ]
  },
  {
   "cell_type": "markdown",
   "id": "2df046b3-b65e-4630-8e26-b419db7bf8ad",
   "metadata": {},
   "source": [
    "## Cleanup"
   ]
  },
  {
   "cell_type": "code",
   "execution_count": null,
   "id": "0ef5050e-989e-4871-9d26-1d3b80649c06",
   "metadata": {},
   "outputs": [],
   "source": [
    "spiders_dot_collection.delete_all()\n",
    "\n",
    "# free all resources with:\n",
    "# spiders_dot_collection.drop()"
   ]
  },
  {
   "cell_type": "markdown",
   "id": "e275d86e-9639-4a6a-a169-d0bdb305e6ed",
   "metadata": {},
   "source": [
    "## The End"
   ]
  }
 ],
 "metadata": {
  "kernelspec": {
   "display_name": "Python 3 (ipykernel)",
   "language": "python",
   "name": "python3"
  },
  "language_info": {
   "codemirror_mode": {
    "name": "ipython",
    "version": 3
   },
   "file_extension": ".py",
   "mimetype": "text/x-python",
   "name": "python",
   "nbconvert_exporter": "python",
   "pygments_lexer": "ipython3",
   "version": "3.10.12"
  }
 },
 "nbformat": 4,
 "nbformat_minor": 5
}
