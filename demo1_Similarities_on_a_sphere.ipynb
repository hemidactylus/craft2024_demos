{
 "cells": [
  {
   "cell_type": "markdown",
   "id": "afdd1389-b7e6-4eb5-9e20-ecc9fe9ef97d",
   "metadata": {},
   "source": [
    "# Demo 1 - similarities on a sphere"
   ]
  },
  {
   "cell_type": "code",
   "execution_count": null,
   "id": "fefe288f-f83b-4cab-ae48-15e243ff60d1",
   "metadata": {},
   "outputs": [],
   "source": [
    "!pip install --quiet \"astrapy>=1.2.0\" \"python-dotenv>=1.0.0\""
   ]
  },
  {
   "cell_type": "code",
   "execution_count": null,
   "id": "d4ce9f05-9626-477f-9264-09a389cb521e",
   "metadata": {},
   "outputs": [],
   "source": [
    "import getpass\n",
    "import math\n",
    "import os\n",
    "\n",
    "from dotenv import load_dotenv\n",
    "\n",
    "from astrapy import DataAPIClient\n",
    "from astrapy.constants import VectorMetric"
   ]
  },
  {
   "cell_type": "markdown",
   "id": "335c22b6-17e2-4909-a1c4-4f6b5a8255aa",
   "metadata": {},
   "source": [
    "## Setup DB"
   ]
  },
  {
   "cell_type": "code",
   "execution_count": null,
   "id": "250b8058-b589-4793-8c4c-a7d373d6d301",
   "metadata": {},
   "outputs": [],
   "source": [
    "load_dotenv()\n",
    "\n",
    "if \"ASTRA_DB_APPLICATION_TOKEN\" not in os.environ:\n",
    "    os.environ[\"ASTRA_DB_APPLICATION_TOKEN\"] = getpass.getpass(\"Please input your Astra DB Token:\")\n",
    "\n",
    "if \"ASTRA_DB_API_ENDPOINT\" not in os.environ:\n",
    "    os.environ[\"ASTRA_DB_API_ENDPOINT\"] = input(\"Please input your Astra DB API Endpoint:\")\n",
    "\n",
    "if \"ASTRA_DB_KEYSPACE\" not in os.environ:\n",
    "    _namespace = input(\"(Optional) Input your Astra DB namespace if desired, or leave blank:\")\n",
    "    if _namespace:\n",
    "        os.environ[\"ASTRA_DB_KEYSPACE\"] = _namespace\n",
    "\n",
    "ASTRA_DB_APPLICATION_TOKEN = os.environ[\"ASTRA_DB_APPLICATION_TOKEN\"]\n",
    "ASTRA_DB_API_ENDPOINT = os.environ[\"ASTRA_DB_API_ENDPOINT\"]\n",
    "ASTRA_DB_KEYSPACE = os.environ.get(\"ASTRA_DB_KEYSPACE\")"
   ]
  },
  {
   "cell_type": "code",
   "execution_count": null,
   "id": "07523f4b-dfa1-4887-af90-3bbcc9faf64c",
   "metadata": {},
   "outputs": [],
   "source": [
    "db = DataAPIClient(ASTRA_DB_APPLICATION_TOKEN).get_database(ASTRA_DB_API_ENDPOINT, namespace=ASTRA_DB_KEYSPACE)"
   ]
  },
  {
   "cell_type": "markdown",
   "id": "e04a3a7e-54e1-4dca-af01-d38efff6dbb0",
   "metadata": {},
   "source": [
    "## Tools"
   ]
  },
  {
   "cell_type": "code",
   "execution_count": null,
   "id": "11ea47bf-f94c-47c4-b869-2ba87bbc9aeb",
   "metadata": {},
   "outputs": [],
   "source": [
    "def vector_norm(v):\n",
    "    return (sum(v_i*v_i for v_i in v))**0.5\n",
    "\n",
    "print(\"Norm test:\")\n",
    "print(f\"  [3, 6, 2] => {vector_norm([3, 6, 2]):.4f}\")\n",
    "print(f\"  [0.9877, 0.1564] => {vector_norm([0.9877, 0.1564]):.4f}\")"
   ]
  },
  {
   "cell_type": "code",
   "execution_count": null,
   "id": "ced0cce0-09b7-4e82-a5cd-603209045bf3",
   "metadata": {},
   "outputs": [],
   "source": [
    "v_documents = [\n",
    "    {\"name\": \"Evarcha\",      \"$vector\": [0.4045, 0.7939, 0.4540]},\n",
    "    {\"name\": \"Marpissa\",     \"$vector\": [0.1106, 0.6984, 0.7071]},\n",
    "    {\"name\": \"Salticus\",     \"$vector\": [0.3673, 0.2668, 0.8910]},\n",
    "    {\"name\": \"Heliophanus\",  \"$vector\": [0.4156, 0.5721, 0.7071]},\n",
    "    {\"name\": \"Tmarus\",       \"$vector\": [0.9045, 0.2939, 0.3090]},\n",
    "    {\"name\": \"Amaurobius\",   \"$vector\": [0.9877, 0.1564, 0.0000]},\n",
    "    {\"name\": \"Enoplognatha\", \"$vector\": [-0.0483, -0.1488, 0.9877]},\n",
    "]"
   ]
  },
  {
   "cell_type": "markdown",
   "id": "c23a1c70-2499-4cdb-83c1-3eb21de0e055",
   "metadata": {},
   "source": [
    "#### Sanity check: vector norms\n",
    "\n",
    "(we truncated the component for the sake of clarity, so this will be approximated to the 4th digit or so...)"
   ]
  },
  {
   "cell_type": "code",
   "execution_count": null,
   "id": "ccd9944b-71c1-4ec0-9e04-b007379b6b95",
   "metadata": {},
   "outputs": [],
   "source": [
    "print(\"Document norms:\")\n",
    "for v_document in v_documents:\n",
    "    norm = vector_norm(v_document[\"$vector\"])\n",
    "    print(f\"  Norm for {v_document['name']}: {norm:0.4f}\")"
   ]
  },
  {
   "cell_type": "markdown",
   "id": "48dfde4c-b861-487c-b585-c2deed136400",
   "metadata": {},
   "source": [
    "#### Curious as to how we created these vectors?"
   ]
  },
  {
   "cell_type": "markdown",
   "id": "822dbe07-55a4-4c20-bd48-651e4a799128",
   "metadata": {},
   "source": [
    "The answer is trigonometry and the [polar coordinates](https://en.wikipedia.org/wiki/Spherical_coordinate_system#Cartesian_coordinates) for the 3D sphere:\n",
    "\n",
    "```python\n",
    "def sphere_vector(theta, phi, norm=1):\n",
    "    rz = norm * math.sin(theta)\n",
    "    rx = norm * math.cos(theta) * math.sin(phi)\n",
    "    ry = norm * math.cos(theta) * math.cos(phi)\n",
    "    return [rx, ry, rz]\n",
    "\n",
    "\n",
    "v_documents = [\n",
    "    {\"name\": \"Evarcha\", \"$vector\": sphere_vector(math.pi * 0.15, math.pi * 0.15)},\n",
    "    {\"name\": \"Marpissa\", \"$vector\": sphere_vector(math.pi * 0.25, math.pi * 0.05)},\n",
    "    {\"name\": \"Salticus\", \"$vector\": sphere_vector(math.pi * 0.35, math.pi * 0.30)},\n",
    "    {\"name\": \"Heliophanus\", \"$vector\": sphere_vector(math.pi * 0.25, math.pi * 0.20)},\n",
    "    {\"name\": \"Tmarus\", \"$vector\": sphere_vector(math.pi * 0.10, math.pi * 0.40)},\n",
    "    {\"name\": \"Amaurobius\", \"$vector\": sphere_vector(math.pi * 0.00, math.pi * 0.45)},\n",
    "    {\"name\": \"Enoplognatha\", \"$vector\": sphere_vector(math.pi * 0.55, math.pi * 0.10)},\n",
    "]\n",
    "\n",
    "query = sphere_vector(math.pi * 0.18, math.pi * 0.32)\n",
    "```"
   ]
  },
  {
   "cell_type": "markdown",
   "id": "1509e6fa-e736-4934-a6ec-d5a02e32fd7d",
   "metadata": {},
   "source": [
    "## Euclidean ANN"
   ]
  },
  {
   "cell_type": "code",
   "execution_count": null,
   "id": "d5799d3f-3f9c-41d2-b7df-e08852c31357",
   "metadata": {},
   "outputs": [],
   "source": [
    "collection_e = db.create_collection(\n",
    "    \"craftdemo3d_euclidean\",\n",
    "    dimension=3,\n",
    "    metric=VectorMetric.EUCLIDEAN,\n",
    "    check_exists=False,\n",
    ")"
   ]
  },
  {
   "cell_type": "code",
   "execution_count": null,
   "id": "b89e66a9-20c8-4388-b958-3d001c6937af",
   "metadata": {},
   "outputs": [],
   "source": [
    "collection_e.insert_many(v_documents)"
   ]
  },
  {
   "cell_type": "code",
   "execution_count": null,
   "id": "e4ce4429-1b86-4c6f-9464-62f9c6d73d4f",
   "metadata": {},
   "outputs": [],
   "source": [
    "query = [0.7129, 0.4524, 0.5358]\n",
    "\n",
    "for document in collection_e.find(vector=query):\n",
    "    print(document[\"name\"])"
   ]
  },
  {
   "cell_type": "markdown",
   "id": "9a885de2-3aea-4f3c-9849-3f606c0a86ae",
   "metadata": {},
   "source": [
    "## Cosine ANN"
   ]
  },
  {
   "cell_type": "code",
   "execution_count": null,
   "id": "e48b35b3-ee42-4f4a-b824-be6300c8116c",
   "metadata": {},
   "outputs": [],
   "source": [
    "collection_c = db.create_collection(\n",
    "    \"craftdemo3d_cosine\",\n",
    "    dimension=3,\n",
    "    metric=VectorMetric.COSINE,\n",
    "    check_exists=False,\n",
    ")"
   ]
  },
  {
   "cell_type": "code",
   "execution_count": null,
   "id": "80890201-c047-4aaa-ab98-1770219a6188",
   "metadata": {},
   "outputs": [],
   "source": [
    "collection_c.insert_many(v_documents)"
   ]
  },
  {
   "cell_type": "code",
   "execution_count": null,
   "id": "bfadabb8-2f38-4f0c-b4d7-f4c2a3d532f1",
   "metadata": {},
   "outputs": [],
   "source": [
    "for document in collection_c.find(vector=query):\n",
    "    print(document[\"name\"])"
   ]
  },
  {
   "cell_type": "code",
   "execution_count": null,
   "id": "d5e80cfb-3015-4305-a06f-44f99d813215",
   "metadata": {},
   "outputs": [],
   "source": [
    "for document in collection_c.find(vector=query):\n",
    "    print(document[\"name\"][0], end=\"\")"
   ]
  },
  {
   "cell_type": "markdown",
   "id": "d9251599-63f2-4afa-93b0-6831d0bb7440",
   "metadata": {},
   "source": [
    "## Numerical comparison"
   ]
  },
  {
   "cell_type": "code",
   "execution_count": null,
   "id": "a05cdbbb-6ef2-44e2-9aec-b8afcc029fd0",
   "metadata": {},
   "outputs": [],
   "source": [
    "results_e = collection_e.find(vector=query, include_similarity=True)\n",
    "results_c = collection_c.find(vector=query, include_similarity=True)\n",
    "\n",
    "print(\"Similarities:\")\n",
    "for doc_e, doc_c in zip(results_e, results_c):\n",
    "    outcome_e = f\"{doc_e['name']} => {doc_e['$similarity']:.3f}\"\n",
    "    outcome_c = f\"{doc_c['name']} => {doc_c['$similarity']:.3f}\"\n",
    "    print(f\"(E) {outcome_e:>26} ; (C) {outcome_c:>26}\")"
   ]
  },
  {
   "cell_type": "markdown",
   "id": "d01978a0-f068-44aa-ae31-19a450ccc95c",
   "metadata": {},
   "source": [
    "# Part 2 (Dot and friends)"
   ]
  },
  {
   "cell_type": "code",
   "execution_count": null,
   "id": "e5e58e6f-438c-46b2-b3b8-cd4a5b60a7b0",
   "metadata": {},
   "outputs": [],
   "source": [
    "collection_d = db.create_collection(\n",
    "    \"craftdemo3d_dotproduct\",\n",
    "    dimension=3,\n",
    "    metric=VectorMetric.DOT_PRODUCT,\n",
    "    check_exists=False,\n",
    ")"
   ]
  },
  {
   "cell_type": "markdown",
   "id": "6ceac9b9-3927-4b58-922f-561d4fb5579f",
   "metadata": {},
   "source": [
    "### Cosine vs. Dot-product, on-sphere\n",
    "\n",
    "Insert and query with the same (on-sphere) items as done for Dot"
   ]
  },
  {
   "cell_type": "code",
   "execution_count": null,
   "id": "48b96bf1-f6f1-4ee1-903e-bdde684cadcc",
   "metadata": {},
   "outputs": [],
   "source": [
    "collection_d.insert_many(v_documents)"
   ]
  },
  {
   "cell_type": "code",
   "execution_count": null,
   "id": "44d24c2c-b913-485a-b263-0ee26085a123",
   "metadata": {},
   "outputs": [],
   "source": [
    "results_c = collection_c.find(vector=query, include_similarity=True)\n",
    "results_d = collection_d.find(vector=query, include_similarity=True)\n",
    "\n",
    "print(\"Similarities:\")\n",
    "for doc_c, doc_d in zip(results_c, results_d):\n",
    "    outcome_c = f\"{doc_c['name']} => {doc_c['$similarity']:.3f}\"\n",
    "    outcome_d = f\"{doc_d['name']} => {doc_d['$similarity']:.3f}\"\n",
    "    print(f\"(C) {outcome_c:>26} ; (D) {outcome_d:>26}\")"
   ]
  },
  {
   "cell_type": "markdown",
   "id": "55d71f49-1f17-409c-b6e9-b28457bbae01",
   "metadata": {},
   "source": [
    "### A three-document demonstration"
   ]
  },
  {
   "cell_type": "code",
   "execution_count": null,
   "id": "e601dd65-d113-4c17-ae19-ab646a61a437",
   "metadata": {},
   "outputs": [],
   "source": [
    "documents2 = [\n",
    "    {\"name\": \"Eratigena\", \"$vector\": [1, 8, 0]},\n",
    "    {\"name\": \"Aterigena\", \"$vector\": [2, 10, 0]},\n",
    "    {\"name\": \"Tegenaria\", \"$vector\": [10, 15, 0]},\n",
    "]"
   ]
  },
  {
   "cell_type": "code",
   "execution_count": null,
   "id": "3a29a27f-abc9-4233-ac71-fd3bbcda66b7",
   "metadata": {},
   "outputs": [],
   "source": [
    "collection_e.delete_all()\n",
    "collection_c.delete_all()\n",
    "collection_d.delete_all()\n",
    "\n",
    "collection_e.insert_many(documents2)\n",
    "collection_c.insert_many(documents2)\n",
    "collection_d.insert_many(documents2)"
   ]
  },
  {
   "cell_type": "code",
   "execution_count": null,
   "id": "f39fc665-7b27-4767-9464-8e441a9f87e7",
   "metadata": {},
   "outputs": [],
   "source": [
    "query2 = [0, 10, 1]\n",
    "\n",
    "results_e = list(collection_e.find(vector=query2, limit=3))\n",
    "results_c = list(collection_c.find(vector=query2, limit=3))\n",
    "results_d = list(collection_d.find(vector=query2, limit=3))\n",
    "\n",
    "print(\"Results, ordering for the same query:\")\n",
    "print(f\"  Euclidean:   {'-'.join(doc['name'][0] for doc in results_e)}\")\n",
    "print(f\"  Cosine:      {'-'.join(doc['name'][0] for doc in results_c)}\")\n",
    "print(f\"  Dot-product: {'-'.join(doc['name'][0] for doc in results_d)}\")"
   ]
  },
  {
   "cell_type": "markdown",
   "id": "e7697c3d-61e7-4e7e-a4bc-58e88a92e467",
   "metadata": {},
   "source": [
    "## Cosine vs. Dot-product, off-sphere"
   ]
  },
  {
   "cell_type": "code",
   "execution_count": null,
   "id": "bdfb6e5c-be94-4d1c-a5a5-3de412e3c393",
   "metadata": {},
   "outputs": [],
   "source": [
    "def rescale_vector(vector, factor):\n",
    "    return [v_i * factor for v_i in vector]\n",
    "\n",
    "rescaled_v_documents = [\n",
    "    {\"name\": \"Evarcha, r\",      \"$vector\": rescale_vector([0.4045, 0.7939, 0.4540], 3.6)},\n",
    "    {\"name\": \"Marpissa, r\",     \"$vector\": rescale_vector([0.1106, 0.6984, 0.7071], 3.2)},\n",
    "    {\"name\": \"Salticus, r\",     \"$vector\": rescale_vector([0.3673, 0.2668, 0.8910], 3.55)},\n",
    "    {\"name\": \"Heliophanus, r\",  \"$vector\": rescale_vector([0.4156, 0.5721, 0.7071], 3.7)},\n",
    "    {\"name\": \"Tmarus, r\",       \"$vector\": rescale_vector([0.9045, 0.2939, 0.3090], 2.5)},\n",
    "    {\"name\": \"Amaurobius, r\",   \"$vector\": rescale_vector([0.9877, 0.1564, 0.0000], 3.1)},\n",
    "    {\"name\": \"Enoplognatha, r\", \"$vector\": rescale_vector([-0.0483, -0.1488, 0.9877], 0.3)},\n",
    "]"
   ]
  },
  {
   "cell_type": "code",
   "execution_count": null,
   "id": "b1541d3a-addb-4190-9ab0-f3451249a4d9",
   "metadata": {},
   "outputs": [],
   "source": [
    "print(\"Rescaled document norms:\")\n",
    "for r_v_document in rescaled_v_documents:\n",
    "    norm = vector_norm(r_v_document[\"$vector\"])\n",
    "    print(f\"  Norm for {r_v_document['name']}: {norm:0.4f}\")"
   ]
  },
  {
   "cell_type": "code",
   "execution_count": null,
   "id": "06b47551-3a44-41c9-9e63-5ee038007805",
   "metadata": {},
   "outputs": [],
   "source": [
    "collection_c.delete_all()\n",
    "collection_d.delete_all()"
   ]
  },
  {
   "cell_type": "code",
   "execution_count": null,
   "id": "eec867bf-719f-4ae8-9ae4-a98f5f190d52",
   "metadata": {},
   "outputs": [],
   "source": [
    "collection_c.insert_many(rescaled_v_documents)\n",
    "collection_d.insert_many(rescaled_v_documents)"
   ]
  },
  {
   "cell_type": "code",
   "execution_count": null,
   "id": "bc058022-8db1-4732-86e2-2c01e6f58cd5",
   "metadata": {},
   "outputs": [],
   "source": [
    "print(\"Search with off-sphere vectors, Cosine: \", end=\"\")\n",
    "for r_doc_c in collection_c.find(vector=query):\n",
    "    print(r_doc_c[\"name\"][0], end=\"\")\n",
    "\n",
    "print(\"\")\n",
    "print(\"Search with off-sphere vectors, Dot-product: \", end=\"\")\n",
    "for r_doc_d in collection_d.find(vector=query):\n",
    "    print(r_doc_d[\"name\"][0], end=\"\")\n"
   ]
  },
  {
   "cell_type": "markdown",
   "id": "66ee8de5-224a-48da-9f10-11f0d8cc5341",
   "metadata": {},
   "source": [
    "# Cleanup"
   ]
  },
  {
   "cell_type": "code",
   "execution_count": null,
   "id": "e6b4d7ac-3659-40d8-9961-248924bc2472",
   "metadata": {},
   "outputs": [],
   "source": [
    "### To delete the inserted data, run:\n",
    "# collection_e.delete_all()\n",
    "# collection_c.delete_all()\n",
    "# collection_d.delete_all()\n",
    "\n",
    "### To remove the very collections, run:\n",
    "collection_e.drop()\n",
    "collection_c.drop()\n",
    "collection_d.drop()"
   ]
  },
  {
   "cell_type": "markdown",
   "id": "8d6f12a0-19db-404f-9df4-3c8e1dcf4234",
   "metadata": {},
   "source": [
    "### The end"
   ]
  }
 ],
 "metadata": {
  "kernelspec": {
   "display_name": "Python 3 (ipykernel)",
   "language": "python",
   "name": "python3"
  },
  "language_info": {
   "codemirror_mode": {
    "name": "ipython",
    "version": 3
   },
   "file_extension": ".py",
   "mimetype": "text/x-python",
   "name": "python",
   "nbconvert_exporter": "python",
   "pygments_lexer": "ipython3",
   "version": "3.11.2"
  }
 },
 "nbformat": 4,
 "nbformat_minor": 5
}
