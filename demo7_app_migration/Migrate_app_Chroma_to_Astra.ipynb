{
 "cells": [
  {
   "cell_type": "markdown",
   "id": "43d3a60f-63f8-4b5d-9319-c49ee44ca561",
   "metadata": {},
   "source": [
    "# Demo 7 - Migrate vector app"
   ]
  },
  {
   "cell_type": "code",
   "execution_count": null,
   "id": "66fc24b5-a5c3-40cb-9a5b-54a7fa7f122a",
   "metadata": {},
   "outputs": [],
   "source": [
    "!pip install --quiet \"astrapy>=1.0.0\" \"python-dotenv>=1.0.0\" \"chromadb>=0.4.21\""
   ]
  },
  {
   "cell_type": "code",
   "execution_count": null,
   "id": "da29571f-fffc-4ea0-bc21-278138454550",
   "metadata": {},
   "outputs": [],
   "source": [
    "import getpass\n",
    "import os\n",
    "\n",
    "from dotenv import load_dotenv\n",
    "\n",
    "from astrapy import DataAPIClient\n",
    "from astrapy.constants import VectorMetric"
   ]
  },
  {
   "cell_type": "markdown",
   "id": "928f338a-0ebd-4d93-b003-378c7203220b",
   "metadata": {},
   "source": [
    "## ChromaDB \"app\""
   ]
  },
  {
   "cell_type": "code",
   "execution_count": null,
   "id": "f4ef0c85-161f-4796-98c4-1237e863b9ea",
   "metadata": {},
   "outputs": [],
   "source": [
    "import chromadb\n",
    "chroma_client = chromadb.Client()\n",
    "\n",
    "# Creating a Vector store\n",
    "cos_coll = chroma_client.create_collection(\n",
    "    name=\"cosine_coll\",\n",
    "    metadata={\"hnsw:space\": \"cosine\"},\n",
    ")\n",
    "\n",
    "# Saving vector entries\n",
    "cos_coll.add(\n",
    "    documents=[\"3 o-clock\", \"6 o'clock\", \"9 o'clock\"],\n",
    "    embeddings=[[1, 0], [0, -1], [-1, 0]],\n",
    "    ids=[\"3:00\", \"6:00\", \"9:00\"],\n",
    ")\n",
    "\n",
    "# Running ANN search\n",
    "cos_matches = cos_coll.query(\n",
    "    query_embeddings=[[1, 0]],\n",
    "    n_results=3\n",
    ")\n",
    "\n",
    "chroma_threshold = 1.5\n",
    "\n",
    "# Printing the results and their \"distance\"\n",
    "match_ids = cos_matches[\"ids\"][0]\n",
    "match_distances = cos_matches[\"distances\"][0]\n",
    "for m_id, m_distance in zip(match_ids, match_distances):\n",
    "    status = \"ok\" if m_distance <= chroma_threshold else \"NO!\"\n",
    "    print(f\"d_chroma,Cos([1,0], '{m_id})' = {m_distance}: {status}\")"
   ]
  },
  {
   "cell_type": "markdown",
   "id": "ae87ac27-0243-4adb-b60b-5c2dffad094e",
   "metadata": {},
   "source": [
    "## Setup (Astra) DB"
   ]
  },
  {
   "cell_type": "code",
   "execution_count": null,
   "id": "e6da120b-9be9-4c3f-b273-ffa1a897aacb",
   "metadata": {},
   "outputs": [],
   "source": [
    "load_dotenv()\n",
    "\n",
    "if \"ASTRA_DB_APPLICATION_TOKEN\" not in os.environ:\n",
    "    os.environ[\"ASTRA_DB_APPLICATION_TOKEN\"] = getpass.getpass(\"Please input your Astra DB Token:\")\n",
    "\n",
    "if \"ASTRA_DB_API_ENDPOINT\" not in os.environ:\n",
    "    os.environ[\"ASTRA_DB_API_ENDPOINT\"] = input(\"Please input your Astra DB API Endpoint:\")\n",
    "\n",
    "if \"ASTRA_DB_KEYSPACE\" not in os.environ:\n",
    "    _namespace = input(\"(Optional) Input your Astra DB namespace if desired, or leave blank:\")\n",
    "    if _namespace:\n",
    "        os.environ[\"ASTRA_DB_KEYSPACE\"] = _namespace\n",
    "\n",
    "ASTRA_DB_APPLICATION_TOKEN = os.environ[\"ASTRA_DB_APPLICATION_TOKEN\"]\n",
    "ASTRA_DB_API_ENDPOINT = os.environ[\"ASTRA_DB_API_ENDPOINT\"]\n",
    "ASTRA_DB_KEYSPACE = os.environ.get(\"ASTRA_DB_KEYSPACE\")"
   ]
  },
  {
   "cell_type": "code",
   "execution_count": null,
   "id": "531669f9-cbe0-41a8-ab57-fe4294a4aee6",
   "metadata": {},
   "outputs": [],
   "source": [
    "db = DataAPIClient(ASTRA_DB_APPLICATION_TOKEN).get_database_by_api_endpoint(ASTRA_DB_API_ENDPOINT, namespace=ASTRA_DB_KEYSPACE)"
   ]
  },
  {
   "cell_type": "markdown",
   "id": "0d65ced5-3f59-4a8b-a10a-41864a4aa99c",
   "metadata": {},
   "source": [
    "## Migrated Astra DB \"app\""
   ]
  },
  {
   "cell_type": "code",
   "execution_count": null,
   "id": "58828509-20c1-407b-b5a2-4d05a4c6eb98",
   "metadata": {},
   "outputs": [],
   "source": [
    "app_collection = db.create_collection(\n",
    "    \"migrated_app\",\n",
    "    dimension=2,\n",
    "    metric=VectorMetric.COSINE,\n",
    "    check_exists=False,\n",
    ")\n",
    "# just in case this demo is re-run\n",
    "app_collection.delete_all()"
   ]
  },
  {
   "cell_type": "code",
   "execution_count": null,
   "id": "a3aa98ef-8c3b-4231-87b4-096082a4f01b",
   "metadata": {},
   "outputs": [],
   "source": [
    "app_collection.insert_many([\n",
    "    {\"name\": \"3:00\", \"$vector\": [1, 0]},\n",
    "    {\"name\": \"6:00\", \"$vector\": [0, -1]},\n",
    "    {\"name\": \"9:00\", \"$vector\": [-1, 0]},\n",
    "])"
   ]
  },
  {
   "cell_type": "code",
   "execution_count": null,
   "id": "ee2915d7-19b1-4b02-b39a-55810edacfc2",
   "metadata": {},
   "outputs": [],
   "source": [
    "astra_threshold = 1 - chroma_threshold / 2\n",
    "\n",
    "# Printing the results and their \"similarity\"\n",
    "for match in app_collection.find(vector=[1, 0], projection={\"*\": True}, include_similarity=True):\n",
    "    # (just for more illustrative outputs, recast it also to a Chroma distance)\n",
    "    chroma_dist = 2 * (1 - match[\"$similarity\"])\n",
    "    #\n",
    "    status = \"ok\" if match[\"$similarity\"] > astra_threshold else \"NO!\"\n",
    "    print(\n",
    "        f\"S_cos([1,0], '{match['name']})' = {match['$similarity']}: {status} \"\n",
    "        f\"(d_chroma,Cos = {chroma_dist})\"\n",
    "    )"
   ]
  },
  {
   "cell_type": "code",
   "execution_count": null,
   "id": "0ef5050e-989e-4871-9d26-1d3b80649c06",
   "metadata": {},
   "outputs": [],
   "source": [
    "app_collection.delete_all()\n",
    "\n",
    "# free all resources with:\n",
    "# app_collection.drop()"
   ]
  },
  {
   "cell_type": "markdown",
   "id": "e275d86e-9639-4a6a-a169-d0bdb305e6ed",
   "metadata": {},
   "source": [
    "## The End"
   ]
  }
 ],
 "metadata": {
  "kernelspec": {
   "display_name": "Python 3 (ipykernel)",
   "language": "python",
   "name": "python3"
  },
  "language_info": {
   "codemirror_mode": {
    "name": "ipython",
    "version": 3
   },
   "file_extension": ".py",
   "mimetype": "text/x-python",
   "name": "python",
   "nbconvert_exporter": "python",
   "pygments_lexer": "ipython3",
   "version": "3.10.12"
  }
 },
 "nbformat": 4,
 "nbformat_minor": 5
}
