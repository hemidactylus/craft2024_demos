{
 "cells": [
  {
   "cell_type": "markdown",
   "id": "43d3a60f-63f8-4b5d-9319-c49ee44ca561",
   "metadata": {},
   "source": [
    "# Demo 6 - Multi-vectors"
   ]
  },
  {
   "cell_type": "code",
   "execution_count": null,
   "id": "66fc24b5-a5c3-40cb-9a5b-54a7fa7f122a",
   "metadata": {},
   "outputs": [],
   "source": [
    "!pip install --quiet \"astrapy>=1.2.0\" \"python-dotenv>=1.0.0\""
   ]
  },
  {
   "cell_type": "code",
   "execution_count": null,
   "id": "da29571f-fffc-4ea0-bc21-278138454550",
   "metadata": {},
   "outputs": [],
   "source": [
    "import getpass\n",
    "import os\n",
    "\n",
    "from dotenv import load_dotenv\n",
    "\n",
    "from astrapy import DataAPIClient\n",
    "from astrapy.constants import VectorMetric"
   ]
  },
  {
   "cell_type": "markdown",
   "id": "ae87ac27-0243-4adb-b60b-5c2dffad094e",
   "metadata": {},
   "source": [
    "## Setup DB"
   ]
  },
  {
   "cell_type": "code",
   "execution_count": null,
   "id": "e6da120b-9be9-4c3f-b273-ffa1a897aacb",
   "metadata": {},
   "outputs": [],
   "source": [
    "load_dotenv()\n",
    "\n",
    "if \"ASTRA_DB_APPLICATION_TOKEN\" not in os.environ:\n",
    "    os.environ[\"ASTRA_DB_APPLICATION_TOKEN\"] = getpass.getpass(\"Please input your Astra DB Token:\")\n",
    "\n",
    "if \"ASTRA_DB_API_ENDPOINT\" not in os.environ:\n",
    "    os.environ[\"ASTRA_DB_API_ENDPOINT\"] = input(\"Please input your Astra DB API Endpoint:\")\n",
    "\n",
    "if \"ASTRA_DB_KEYSPACE\" not in os.environ:\n",
    "    _namespace = input(\"(Optional) Input your Astra DB namespace if desired, or leave blank:\")\n",
    "    if _namespace:\n",
    "        os.environ[\"ASTRA_DB_KEYSPACE\"] = _namespace\n",
    "\n",
    "ASTRA_DB_APPLICATION_TOKEN = os.environ[\"ASTRA_DB_APPLICATION_TOKEN\"]\n",
    "ASTRA_DB_API_ENDPOINT = os.environ[\"ASTRA_DB_API_ENDPOINT\"]\n",
    "ASTRA_DB_KEYSPACE = os.environ.get(\"ASTRA_DB_KEYSPACE\")"
   ]
  },
  {
   "cell_type": "code",
   "execution_count": null,
   "id": "531669f9-cbe0-41a8-ab57-fe4294a4aee6",
   "metadata": {},
   "outputs": [],
   "source": [
    "db = DataAPIClient(ASTRA_DB_APPLICATION_TOKEN).get_database(ASTRA_DB_API_ENDPOINT, namespace=ASTRA_DB_KEYSPACE)"
   ]
  },
  {
   "cell_type": "markdown",
   "id": "0d65ced5-3f59-4a8b-a10a-41864a4aa99c",
   "metadata": {},
   "source": [
    "## Raw data\n",
    "\n",
    "Entries have _two_ vectors each, individually normalized, designed for Cos (/Dot) usage\n",
    "\n",
    "_(Note: there are probably better representation for a color than a **unit-norm** vector. But bear with me for the sake of the example)_"
   ]
  },
  {
   "cell_type": "code",
   "execution_count": null,
   "id": "58828509-20c1-407b-b5a2-4d05a4c6eb98",
   "metadata": {},
   "outputs": [],
   "source": [
    "def vector_norm(v):\n",
    "    return sum(v_i * v_i for v_i in v) ** 0.5\n",
    "\n",
    "def normalize_vector(v):\n",
    "    norm = vector_norm(v)\n",
    "    return [v_i / norm for v_i in v]"
   ]
  },
  {
   "cell_type": "code",
   "execution_count": null,
   "id": "a3aa98ef-8c3b-4231-87b4-096082a4f01b",
   "metadata": {},
   "outputs": [],
   "source": [
    "raw_critters = [\n",
    "    {\n",
    "        \"name\": \"Argiope bruennichi\",\n",
    "        \"main_color\": normalize_vector([255, 215, 68]),  # an R-G-B point\n",
    "        \"web_orientation\": normalize_vector([1, 0]),  # vertical\n",
    "    },\n",
    "    {\n",
    "        \"name\": \"Tetragnatha extensa\",\n",
    "        \"main_color\": normalize_vector([84, 255, 115]),\n",
    "        \"web_orientation\": normalize_vector([0.5, 0.5]),\n",
    "    },\n",
    "    {\n",
    "        \"name\": \"Dysdera crocata\",\n",
    "        \"main_color\": normalize_vector([114, 30, 40]),\n",
    "        \"web_orientation\": normalize_vector([0.2, 1]),\n",
    "    },\n",
    "    {\n",
    "        \"name\": \"Eresus cinnabarinus\",\n",
    "        \"main_color\": normalize_vector([230, 84, 100]),\n",
    "        \"web_orientation\": normalize_vector([0.5, 0.3]),\n",
    "    },\n",
    "]"
   ]
  },
  {
   "cell_type": "markdown",
   "id": "21303457-0a77-4455-b4fb-4c8ff4c407ba",
   "metadata": {},
   "source": [
    "## Collation of vectors"
   ]
  },
  {
   "cell_type": "code",
   "execution_count": null,
   "id": "b930f68a-653e-4e53-b335-95b641135f03",
   "metadata": {},
   "outputs": [],
   "source": [
    "full_dimension = 3 + 2\n",
    "\n",
    "spiders_multivector_collection = db.create_collection(\n",
    "    \"spiders_multivector\",\n",
    "    dimension=full_dimension,\n",
    "    metric=VectorMetric.DOT_PRODUCT,\n",
    "    check_exists=False,\n",
    ")\n",
    "# just in case this demo is re-run\n",
    "spiders_multivector_collection.delete_all()"
   ]
  },
  {
   "cell_type": "code",
   "execution_count": null,
   "id": "f53a13ac-2afa-4c9d-a426-74250bbbc35c",
   "metadata": {},
   "outputs": [],
   "source": [
    "def full_vector(raw_critter):\n",
    "    return raw_critter[\"main_color\"] + raw_critter[\"web_orientation\"]\n",
    "\n",
    "print(full_vector(raw_critters[2]))"
   ]
  },
  {
   "cell_type": "code",
   "execution_count": null,
   "id": "66274044-20c8-4ec7-9f73-21b4c19e6f85",
   "metadata": {},
   "outputs": [],
   "source": [
    "spiders_multivector_collection.insert_many(\n",
    "    raw_critters,\n",
    "    vectors=[full_vector(raw_critter) for raw_critter in raw_critters],\n",
    ")"
   ]
  },
  {
   "cell_type": "markdown",
   "id": "76c8f81b-ebcd-484b-8a63-c7b6e09f5cb8",
   "metadata": {},
   "source": [
    "## Combined similarity search\n",
    "\n",
    "i.e. maximizing `alpha * S_dot(q_a, v_a) + (1-alpha) * S_dot(q_b, v_b)` through **Dot**"
   ]
  },
  {
   "cell_type": "code",
   "execution_count": null,
   "id": "a9262a46-25e5-4079-95c3-21bfaa10eb44",
   "metadata": {},
   "outputs": [],
   "source": [
    "def full_query_vector(q_a, q_b, alpha):\n",
    "    norm_q_a = normalize_vector(q_a)\n",
    "    norm_q_b = normalize_vector(q_b)\n",
    "    return [alpha * q_a_i for q_a_i in norm_q_a] + [(1 - alpha) * q_b_i for q_b_i in norm_q_b]"
   ]
  },
  {
   "cell_type": "code",
   "execution_count": null,
   "id": "c294ec1d-9479-4853-9815-f333d67fda4c",
   "metadata": {},
   "outputs": [],
   "source": [
    "query_color = [100, 20, 60]  # that would be ~q_a\n",
    "query_web = [0.1, 0.4]  # that would be ~q_b\n",
    "\n",
    "print(full_query_vector(query_color, query_web, 0.15))\n",
    "print(full_query_vector(query_color, query_web, 0.85))"
   ]
  },
  {
   "cell_type": "code",
   "execution_count": null,
   "id": "d809b228-96f0-472d-bbe5-78416bd18706",
   "metadata": {},
   "outputs": [],
   "source": [
    "qv = full_query_vector(query_color, query_web, 0.4)\n",
    "print(f\"vector_norm(qv):     {vector_norm(qv)}\")\n",
    "print(f\"vector_norm(qv[:3]): {vector_norm(qv[:3])}\")  # = alpha\n",
    "print(f\"vector_norm(qv[3:]): {vector_norm(qv[3:])}\")  # = 1-alpha"
   ]
  },
  {
   "cell_type": "code",
   "execution_count": null,
   "id": "99b840de-27fc-454c-a67b-417af4e526b8",
   "metadata": {},
   "outputs": [],
   "source": [
    "def multivector_search(q_a, q_b, alpha, n=3):\n",
    "    full_qv = full_query_vector(q_a, q_b, alpha)\n",
    "    return spiders_multivector_collection.find(vector=full_qv, limit=n, projection={\"$vector\": False})"
   ]
  },
  {
   "cell_type": "code",
   "execution_count": null,
   "id": "19521a06-7186-4957-93ea-7562bcc40f50",
   "metadata": {},
   "outputs": [],
   "source": [
    "print(\"By color only:\")\n",
    "for cr_i, cr_doc in enumerate(multivector_search(query_color, query_web, 1.0)):\n",
    "    print(f\"  [{cr_i + 1}] '{cr_doc['name']}'\")"
   ]
  },
  {
   "cell_type": "code",
   "execution_count": null,
   "id": "5152a162-3d16-43ff-88ae-3e92e49067cb",
   "metadata": {},
   "outputs": [],
   "source": [
    "print(\"By web only:\")\n",
    "for cr_i, cr_doc in enumerate(multivector_search(query_color, query_web, 0.0)):\n",
    "    print(f\"  [{cr_i + 1}] '{cr_doc['name']}'\")"
   ]
  },
  {
   "cell_type": "code",
   "execution_count": null,
   "id": "bf09730c-4f9f-4708-b761-406d494609b9",
   "metadata": {},
   "outputs": [],
   "source": [
    "def list_initials(alpha):\n",
    "    return \"-\".join(cr_doc[\"name\"][0] for cr_doc in multivector_search(query_color, query_web, alpha=alpha))\n",
    "\n",
    "for alpha in [i / 10 for i in range(11)]:\n",
    "    print(f\"Alpha {alpha:.2f} ==> results {list_initials(alpha)}\")"
   ]
  },
  {
   "cell_type": "code",
   "execution_count": null,
   "id": "0ef5050e-989e-4871-9d26-1d3b80649c06",
   "metadata": {},
   "outputs": [],
   "source": [
    "### To delete the inserted data, run:\n",
    "# spiders_multivector_collection.delete_all()\n",
    "\n",
    "### To remove the very collection, run:\n",
    "spiders_multivector_collection.drop()"
   ]
  },
  {
   "cell_type": "markdown",
   "id": "e275d86e-9639-4a6a-a169-d0bdb305e6ed",
   "metadata": {},
   "source": [
    "## The End"
   ]
  }
 ],
 "metadata": {
  "kernelspec": {
   "display_name": "Python 3 (ipykernel)",
   "language": "python",
   "name": "python3"
  },
  "language_info": {
   "codemirror_mode": {
    "name": "ipython",
    "version": 3
   },
   "file_extension": ".py",
   "mimetype": "text/x-python",
   "name": "python",
   "nbconvert_exporter": "python",
   "pygments_lexer": "ipython3",
   "version": "3.11.2"
  }
 },
 "nbformat": 4,
 "nbformat_minor": 5
}
